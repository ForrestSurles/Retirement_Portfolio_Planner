{
 "cells": [
  {
   "cell_type": "markdown",
   "metadata": {},
   "source": [
    "# Financial Planning with APIs and Simulations\n",
    "\n",
    "In this Challenge, you’ll create two financial analysis tools by using a single Jupyter notebook:\n",
    "\n",
    "Part 1: A financial planner for emergencies. The members will be able to use this tool to visualize their current savings. The members can then determine if they have enough reserves for an emergency fund.\n",
    "\n",
    "Part 2: A financial planner for retirement. This tool will forecast the performance of their retirement portfolio in 30 years. To do this, the tool will make an Alpaca API call via the Alpaca SDK to get historical price data for use in Monte Carlo simulations.\n",
    "\n",
    "You’ll use the information from the Monte Carlo simulation to answer questions about the portfolio in your Jupyter notebook.\n",
    "\n"
   ]
  },
  {
   "cell_type": "code",
   "execution_count": 4,
   "metadata": {},
   "outputs": [],
   "source": [
    "# Import the required libraries and dependencies\r\n",
    "import os\r\n",
    "import requests\r\n",
    "import json\r\n",
    "import pandas as pd\r\n",
    "from dotenv import load_dotenv\r\n",
    "import alpaca_trade_api as tradeapi\r\n",
    "from MCForecastTools import MCSimulation\r\n",
    "\r\n",
    "%matplotlib inline"
   ]
  },
  {
   "cell_type": "code",
   "execution_count": 5,
   "metadata": {},
   "outputs": [
    {
     "name": "stderr",
     "output_type": "stream",
     "text": [
      "Python-dotenv could not parse statement starting at line 1\n"
     ]
    },
    {
     "data": {
      "text/plain": [
       "True"
      ]
     },
     "execution_count": 5,
     "metadata": {},
     "output_type": "execute_result"
    }
   ],
   "source": [
    "# Load the environment variables from the .env file\r\n",
    "#by calling the load_dotenv function\r\n",
    "load_dotenv()"
   ]
  },
  {
   "cell_type": "markdown",
   "metadata": {},
   "source": [
    "## Part 1: Create a Financial Planner for Emergencies"
   ]
  },
  {
   "cell_type": "markdown",
   "metadata": {},
   "source": [
    "### Evaluate the Cryptocurrency Wallet by Using the Requests Library\n",
    "\n",
    "In this section, you’ll determine the current value of a member’s cryptocurrency wallet. You’ll collect the current prices for the Bitcoin and Ethereum cryptocurrencies by using the Python Requests library. For the prototype, you’ll assume that the member holds the 1.2 Bitcoins (BTC) and 5.3 Ethereum coins (ETH). To do all this, complete the following steps:\n",
    "\n",
    "1. Create a variable named `monthly_income`, and set its value to `12000`.\n",
    "\n",
    "2. Use the Requests library to get the current price (in US dollars) of Bitcoin (BTC) and Ethereum (ETH) by using the API endpoints that the starter code supplies.\n",
    "\n",
    "3. Navigate the JSON response object to access the current price of each coin, and store each in a variable.\n",
    "\n",
    "    > **Hint** Note the specific identifier for each cryptocurrency in the API JSON response. The Bitcoin identifier is `1`, and the Ethereum identifier is `1027`.\n",
    "\n",
    "4. Calculate the value, in US dollars, of the current amount of each cryptocurrency and of the entire cryptocurrency wallet.\n",
    "\n"
   ]
  },
  {
   "cell_type": "code",
   "execution_count": 6,
   "metadata": {},
   "outputs": [],
   "source": [
    "# The current number of coins for each cryptocurrency asset held in the portfolio.\r\n",
    "btc_coins = 1.2\r\n",
    "eth_coins = 5.3"
   ]
  },
  {
   "cell_type": "markdown",
   "metadata": {},
   "source": [
    "#### Step 1: Create a variable named `monthly_income`, and set its value to `12000`."
   ]
  },
  {
   "cell_type": "code",
   "execution_count": 7,
   "metadata": {},
   "outputs": [],
   "source": [
    "# The monthly amount for the member's household income\r\n",
    "monthly_income = 12000"
   ]
  },
  {
   "cell_type": "markdown",
   "metadata": {},
   "source": [
    "#### Review the endpoint URLs for the API calls to Free Crypto API in order to get the current pricing information for both BTC and ETH."
   ]
  },
  {
   "cell_type": "code",
   "execution_count": 8,
   "metadata": {},
   "outputs": [],
   "source": [
    "# The Free Crypto API Call endpoint URLs for the held cryptocurrency assets\r\n",
    "btc_url = \"https://api.alternative.me/v2/ticker/Bitcoin/?convert=USD\"\r\n",
    "eth_url = \"https://api.alternative.me/v2/ticker/Ethereum/?convert=USD\""
   ]
  },
  {
   "cell_type": "markdown",
   "metadata": {},
   "source": [
    "#### Step 2. Use the Requests library to get the current price (in US dollars) of Bitcoin (BTC) and Ethereum (ETH) by using the API endpoints that the starter code supplied."
   ]
  },
  {
   "cell_type": "code",
   "execution_count": 9,
   "metadata": {},
   "outputs": [
    {
     "name": "stdout",
     "output_type": "stream",
     "text": [
      "{\n",
      "  \"data\": {\n",
      "    \"1\": {\n",
      "      \"circulating_supply\": 18766881,\n",
      "      \"id\": 1,\n",
      "      \"last_updated\": 1627274975,\n",
      "      \"max_supply\": 21000000,\n",
      "      \"name\": \"Bitcoin\",\n",
      "      \"quotes\": {\n",
      "        \"USD\": {\n",
      "          \"market_cap\": 720247830369,\n",
      "          \"percent_change_1h\": 0.852153842690375,\n",
      "          \"percent_change_24h\": 11.7130071948831,\n",
      "          \"percent_change_7d\": 20.608062581353,\n",
      "          \"percentage_change_1h\": 0.852153842690375,\n",
      "          \"percentage_change_24h\": 11.7130071948831,\n",
      "          \"percentage_change_7d\": 20.608062581353,\n",
      "          \"price\": 38497.0,\n",
      "          \"volume_24h\": 35187046485\n",
      "        }\n",
      "      },\n",
      "      \"rank\": 1,\n",
      "      \"symbol\": \"BTC\",\n",
      "      \"total_supply\": 18766881,\n",
      "      \"website_slug\": \"bitcoin\"\n",
      "    }\n",
      "  },\n",
      "  \"metadata\": {\n",
      "    \"error\": null,\n",
      "    \"num_cryptocurrencies\": 3105,\n",
      "    \"timestamp\": 1627274975\n",
      "  }\n",
      "}\n"
     ]
    }
   ],
   "source": [
    "# Using the Python requests library, make an API call to access the current price of BTC\r\n",
    "btc_response = requests.get(btc_url).json()\r\n",
    "\r\n",
    "# Use the json.dumps function to review the response data from the API call\r\n",
    "# Use the indent and sort_keys parameters to make the response object readable\r\n",
    "print(json.dumps(btc_response, indent=2, sort_keys=True))\r\n"
   ]
  },
  {
   "cell_type": "code",
   "execution_count": 10,
   "metadata": {},
   "outputs": [
    {
     "name": "stdout",
     "output_type": "stream",
     "text": [
      "{\n",
      "  \"data\": {\n",
      "    \"1027\": {\n",
      "      \"circulating_supply\": 116844411,\n",
      "      \"id\": 1027,\n",
      "      \"last_updated\": 1627274992,\n",
      "      \"max_supply\": 0,\n",
      "      \"name\": \"Ethereum\",\n",
      "      \"quotes\": {\n",
      "        \"USD\": {\n",
      "          \"market_cap\": 272048146717,\n",
      "          \"percent_change_1h\": 1.10095341323971,\n",
      "          \"percent_change_24h\": 7.47225693479668,\n",
      "          \"percent_change_7d\": 22.6003929717154,\n",
      "          \"percentage_change_1h\": 1.10095341323971,\n",
      "          \"percentage_change_24h\": 7.47225693479668,\n",
      "          \"percentage_change_7d\": 22.6003929717154,\n",
      "          \"price\": 2336.42,\n",
      "          \"volume_24h\": 23624723492\n",
      "        }\n",
      "      },\n",
      "      \"rank\": 2,\n",
      "      \"symbol\": \"ETH\",\n",
      "      \"total_supply\": 116844411,\n",
      "      \"website_slug\": \"ethereum\"\n",
      "    }\n",
      "  },\n",
      "  \"metadata\": {\n",
      "    \"error\": null,\n",
      "    \"num_cryptocurrencies\": 3105,\n",
      "    \"timestamp\": 1627274992\n",
      "  }\n",
      "}\n"
     ]
    }
   ],
   "source": [
    "# Using the Python requests library, make an API call to access the current price ETH\r\n",
    "eth_response = requests.get(eth_url).json()\r\n",
    "\r\n",
    "# Use the json.dumps function to review the response data from the API call\r\n",
    "# Use the indent and sort_keys parameters to make the response object readable\r\n",
    "print(json.dumps(eth_response, indent=2, sort_keys=True))\r\n"
   ]
  },
  {
   "cell_type": "markdown",
   "metadata": {},
   "source": [
    "#### Step 3: Navigate the JSON response object to access the current price of each coin, and store each in a variable."
   ]
  },
  {
   "cell_type": "code",
   "execution_count": 11,
   "metadata": {},
   "outputs": [
    {
     "name": "stdout",
     "output_type": "stream",
     "text": [
      "the current price of Bitcoin is $38,497.00\n"
     ]
    }
   ],
   "source": [
    "# Navigate the BTC response object to access the current price of BTC\r\n",
    "btc_price = btc_response['data']['1']['quotes']['USD']['price']\r\n",
    "\r\n",
    "# Print the current price of BTC\r\n",
    "print(f\"the current price of Bitcoin is ${btc_price:,.2f}\")\r\n"
   ]
  },
  {
   "cell_type": "code",
   "execution_count": 12,
   "metadata": {},
   "outputs": [
    {
     "name": "stdout",
     "output_type": "stream",
     "text": [
      "the current price of Ethereum is $2,336.42\n"
     ]
    }
   ],
   "source": [
    "# Navigate the BTC response object to access the current price of ETH\r\n",
    "eth_price = eth_response['data']['1027']['quotes']['USD']['price']\r\n",
    "\r\n",
    "# Print the current price of ETH\r\n",
    "print(f\"the current price of Ethereum is ${eth_price:,.2f}\")\r\n"
   ]
  },
  {
   "cell_type": "markdown",
   "metadata": {},
   "source": [
    "### Step 4: Calculate the value, in US dollars, of the current amount of each cryptocurrency and of the entire cryptocurrency wallet."
   ]
  },
  {
   "cell_type": "code",
   "execution_count": 13,
   "metadata": {},
   "outputs": [
    {
     "name": "stdout",
     "output_type": "stream",
     "text": [
      "current value of the member's holding in BTC is $46,196.40\n"
     ]
    }
   ],
   "source": [
    "# Compute the current value of the BTC holding \r\n",
    "btc_value = btc_coins * btc_price\r\n",
    "\r\n",
    "# Print current value of your holding in BTC\r\n",
    "print(f\"current value of the member's holding in BTC is ${btc_value:,.2f}\")\r\n"
   ]
  },
  {
   "cell_type": "code",
   "execution_count": 14,
   "metadata": {},
   "outputs": [
    {
     "name": "stdout",
     "output_type": "stream",
     "text": [
      "current value of the member's holding in ETH is $12,383.03\n"
     ]
    }
   ],
   "source": [
    "# Compute the current value of the ETH holding \r\n",
    "eth_value = eth_coins * eth_price\r\n",
    "\r\n",
    "# Print current value of your holding in ETH\r\n",
    "print(f\"current value of the member's holding in ETH is ${eth_value:,.2f}\")\r\n"
   ]
  },
  {
   "cell_type": "code",
   "execution_count": 15,
   "metadata": {},
   "outputs": [
    {
     "name": "stdout",
     "output_type": "stream",
     "text": [
      "total value of the member's cryptocurrency wallet is $58,579.43\n"
     ]
    }
   ],
   "source": [
    "# Compute the total value of the cryptocurrency wallet\r\n",
    "# Add the value of the BTC holding to the value of the ETH holding\r\n",
    "total_crypto_wallet = btc_value + eth_value\r\n",
    "\r\n",
    "# Print current cryptocurrency wallet balance\r\n",
    "print(f\"total value of the member's cryptocurrency wallet is ${total_crypto_wallet:,.2f}\")\r\n"
   ]
  },
  {
   "cell_type": "markdown",
   "metadata": {},
   "source": [
    "### Evaluate the Stock and Bond Holdings by Using the Alpaca SDK\n",
    "\n",
    "In this section, you’ll determine the current value of a member’s stock and bond holdings. You’ll make an API call to Alpaca via the Alpaca SDK to get the current closing prices of the SPDR S&P 500 ETF Trust (ticker: SPY) and of the iShares Core US Aggregate Bond ETF (ticker: AGG). For the prototype, assume that the member holds 110 shares of SPY, which represents the stock portion of their portfolio, and 200 shares of AGG, which represents the bond portion. To do all this, complete the following steps:\n",
    "\n",
    "1. In the `Starter_Code` folder, create an environment file (`.env`) to store the values of your Alpaca API key and Alpaca secret key.\n",
    "\n",
    "2. Set the variables for the Alpaca API and secret keys. Using the Alpaca SDK, create the Alpaca `tradeapi.REST` object. In this object, include the parameters for the Alpaca API key, the secret key, and the version number.\n",
    "\n",
    "3. Set the following parameters for the Alpaca API call:\n",
    "\n",
    "    - `tickers`: Use the tickers for the member’s stock and bond holdings.\n",
    "\n",
    "    - `timeframe`: Use a time frame of one day.\n",
    "\n",
    "    - `start_date` and `end_date`: Use the same date for these parameters, and format them with the date of the previous weekday (or `2020-08-07`). This is because you want the one closing price for the most-recent trading day.\n",
    "\n",
    "4. Get the current closing prices for `SPY` and `AGG` by using the Alpaca `get_barset` function. Format the response as a Pandas DataFrame by including the `df` property at the end of the `get_barset` function.\n",
    "\n",
    "5. Navigating the Alpaca response DataFrame, select the `SPY` and `AGG` closing prices, and store them as variables.\n",
    "\n",
    "6. Calculate the value, in US dollars, of the current amount of shares in each of the stock and bond portions of the portfolio, and print the results.\n"
   ]
  },
  {
   "cell_type": "markdown",
   "metadata": {},
   "source": [
    "#### Review the total number of shares held in both (SPY) and (AGG)."
   ]
  },
  {
   "cell_type": "code",
   "execution_count": 16,
   "metadata": {},
   "outputs": [],
   "source": [
    "# Current amount of shares held in both the stock (SPY) and bond (AGG) portion of the portfolio.\r\n",
    "spy_shares = 110\r\n",
    "agg_shares = 200\r\n"
   ]
  },
  {
   "cell_type": "markdown",
   "metadata": {},
   "source": [
    "#### Step 1: In the `Starter_Code` folder, create an environment file (`.env`) to store the values of your Alpaca API key and Alpaca secret key."
   ]
  },
  {
   "cell_type": "code",
   "execution_count": 17,
   "metadata": {},
   "outputs": [
    {
     "data": {
      "text/plain": [
       "str"
      ]
     },
     "metadata": {},
     "output_type": "display_data"
    },
    {
     "data": {
      "text/plain": [
       "str"
      ]
     },
     "metadata": {},
     "output_type": "display_data"
    }
   ],
   "source": [
    "# Set the variables for the Alpaca API and secret keys\r\n",
    "alpaca_api_key = os.getenv('ALPACA_API_KEY')\r\n",
    "alpaca_secret_key = os.getenv('ALPACA_SECRET_KEY')\r\n",
    "\r\n",
    "# verify type to confirm import\r\n",
    "display(type(alpaca_api_key))\r\n",
    "display(type(alpaca_secret_key))"
   ]
  },
  {
   "cell_type": "markdown",
   "metadata": {},
   "source": [
    "#### Step 2: Set the variables for the Alpaca API and secret keys. Using the Alpaca SDK, create the Alpaca `tradeapi.REST` object. In this object, include the parameters for the Alpaca API key, the secret key, and the version number."
   ]
  },
  {
   "cell_type": "code",
   "execution_count": 18,
   "metadata": {},
   "outputs": [],
   "source": [
    "# Create the Alpaca tradeapi.REST object\r\n",
    "alpaca = tradeapi.REST(\r\n",
    "    alpaca_api_key,\r\n",
    "    alpaca_secret_key,\r\n",
    "    api_version='v2'\r\n",
    ")"
   ]
  },
  {
   "cell_type": "markdown",
   "metadata": {},
   "source": [
    "#### Step 3: Set the following parameters for the Alpaca API call:\n",
    "\n",
    "- `tickers`: Use the tickers for the member’s stock and bond holdings.\n",
    "\n",
    "- `timeframe`: Use a time frame of one day.\n",
    "\n",
    "- `start_date` and `end_date`: Use the same date for these parameters, and format them with the date of the previous weekday (or `2020-08-07`). This is because you want the one closing price for the most-recent trading day.\n"
   ]
  },
  {
   "cell_type": "code",
   "execution_count": 19,
   "metadata": {},
   "outputs": [],
   "source": [
    "# Set the tickers for both the bond and stock portion of the portfolio\r\n",
    "tickers = ['SPY','AGG']\r\n",
    "\r\n",
    "# Set timeframe to 1D \r\n",
    "timeframe = '1D'\r\n",
    "\r\n",
    "# Format current date as ISO format\r\n",
    "# Set both the start and end date at the date of your prior weekday \r\n",
    "# This will give you the closing price of the previous trading day\r\n",
    "# Alternatively you can use a start and end date of 2020-08-07\r\n",
    "prior_weekday = '2021-07-23'\r\n",
    "start_date = pd.Timestamp(prior_weekday, tz='America/New_York').isoformat()\r\n",
    "end_date = pd.Timestamp(prior_weekday, tz='America/New_York').isoformat()\r\n",
    "\r\n",
    "# typically, would also establish the number of rows to the max of 1,000,\r\n",
    "# but only one day is needed for this api call"
   ]
  },
  {
   "cell_type": "markdown",
   "metadata": {},
   "source": [
    "#### Step 4: Get the current closing prices for `SPY` and `AGG` by using the Alpaca `get_barset` function. Format the response as a Pandas DataFrame by including the `df` property at the end of the `get_barset` function."
   ]
  },
  {
   "cell_type": "code",
   "execution_count": 20,
   "metadata": {},
   "outputs": [],
   "source": [
    "# Use the Alpaca get_barset function to get current closing prices the portfolio\r\n",
    "# Be sure to set the `df` property after the function to format the response object as a DataFrame\r\n",
    "prices_df = alpaca.get_barset(\r\n",
    "    tickers,\r\n",
    "    timeframe,\r\n",
    "    start=start_date,\r\n",
    "    end=end_date,\r\n",
    ").df\r\n"
   ]
  },
  {
   "cell_type": "code",
   "execution_count": 21,
   "metadata": {},
   "outputs": [
    {
     "data": {
      "text/html": [
       "<div>\n",
       "<style scoped>\n",
       "    .dataframe tbody tr th:only-of-type {\n",
       "        vertical-align: middle;\n",
       "    }\n",
       "\n",
       "    .dataframe tbody tr th {\n",
       "        vertical-align: top;\n",
       "    }\n",
       "\n",
       "    .dataframe thead tr th {\n",
       "        text-align: left;\n",
       "    }\n",
       "\n",
       "    .dataframe thead tr:last-of-type th {\n",
       "        text-align: right;\n",
       "    }\n",
       "</style>\n",
       "<table border=\"1\" class=\"dataframe\">\n",
       "  <thead>\n",
       "    <tr>\n",
       "      <th></th>\n",
       "      <th colspan=\"5\" halign=\"left\">AGG</th>\n",
       "      <th colspan=\"5\" halign=\"left\">SPY</th>\n",
       "    </tr>\n",
       "    <tr>\n",
       "      <th></th>\n",
       "      <th>open</th>\n",
       "      <th>high</th>\n",
       "      <th>low</th>\n",
       "      <th>close</th>\n",
       "      <th>volume</th>\n",
       "      <th>open</th>\n",
       "      <th>high</th>\n",
       "      <th>low</th>\n",
       "      <th>close</th>\n",
       "      <th>volume</th>\n",
       "    </tr>\n",
       "    <tr>\n",
       "      <th>time</th>\n",
       "      <th></th>\n",
       "      <th></th>\n",
       "      <th></th>\n",
       "      <th></th>\n",
       "      <th></th>\n",
       "      <th></th>\n",
       "      <th></th>\n",
       "      <th></th>\n",
       "      <th></th>\n",
       "      <th></th>\n",
       "    </tr>\n",
       "  </thead>\n",
       "  <tbody>\n",
       "    <tr>\n",
       "      <th>2021-07-23 00:00:00-04:00</th>\n",
       "      <td>116.03</td>\n",
       "      <td>116.22</td>\n",
       "      <td>116.03</td>\n",
       "      <td>116.21</td>\n",
       "      <td>4137100</td>\n",
       "      <td>437.53</td>\n",
       "      <td>440.3</td>\n",
       "      <td>436.79</td>\n",
       "      <td>439.9</td>\n",
       "      <td>53294703</td>\n",
       "    </tr>\n",
       "  </tbody>\n",
       "</table>\n",
       "</div>"
      ],
      "text/plain": [
       "                              AGG                                      SPY  \\\n",
       "                             open    high     low   close   volume    open   \n",
       "time                                                                         \n",
       "2021-07-23 00:00:00-04:00  116.03  116.22  116.03  116.21  4137100  437.53   \n",
       "\n",
       "                                                           \n",
       "                            high     low  close    volume  \n",
       "time                                                       \n",
       "2021-07-23 00:00:00-04:00  440.3  436.79  439.9  53294703  "
      ]
     },
     "execution_count": 21,
     "metadata": {},
     "output_type": "execute_result"
    }
   ],
   "source": [
    "# Review the first 5 rows of the Alpaca DataFrame\r\n",
    "# ... no idea why they're asking for the first 5 rows when there's only a single datapoint...\r\n",
    "prices_df.head()"
   ]
  },
  {
   "cell_type": "markdown",
   "metadata": {},
   "source": [
    "#### Step 5: Navigating the Alpaca response DataFrame, select the `SPY` and `AGG` closing prices, and store them as variables."
   ]
  },
  {
   "cell_type": "code",
   "execution_count": 22,
   "metadata": {},
   "outputs": [
    {
     "name": "stdout",
     "output_type": "stream",
     "text": [
      "the most recent close price for AGG was $116.21\n"
     ]
    }
   ],
   "source": [
    "# Access the closing price for AGG from the Alpaca DataFrame\r\n",
    "# Converting the value to a floating point number\r\n",
    "agg_close_price = float(prices_df['AGG']['close'])\r\n",
    "\r\n",
    "# Print the AGG closing price\r\n",
    "print(f\"the most recent close price for AGG was ${agg_close_price:,.2f}\")\r\n"
   ]
  },
  {
   "cell_type": "code",
   "execution_count": 23,
   "metadata": {},
   "outputs": [
    {
     "name": "stdout",
     "output_type": "stream",
     "text": [
      "the most recent close price for AGG was $439.90\n"
     ]
    }
   ],
   "source": [
    "# Access the closing price for SPY from the Alpaca DataFrame\r\n",
    "# Converting the value to a floating point number\r\n",
    "spy_close_price = float(prices_df['SPY']['close'])\r\n",
    "\r\n",
    "# Print the SPY closing price\r\n",
    "print(f\"the most recent close price for AGG was ${spy_close_price:,.2f}\")\r\n"
   ]
  },
  {
   "cell_type": "markdown",
   "metadata": {},
   "source": [
    "#### Step 6: Calculate the value, in US dollars, of the current amount of shares in each of the stock and bond portions of the portfolio, and print the results."
   ]
  },
  {
   "cell_type": "code",
   "execution_count": 24,
   "metadata": {},
   "outputs": [
    {
     "name": "stdout",
     "output_type": "stream",
     "text": [
      "the current value of the member's bond portion is $23,242.00\n"
     ]
    }
   ],
   "source": [
    "# Calculate the current value of the bond portion of the portfolio\r\n",
    "agg_value = agg_shares * agg_close_price\r\n",
    "\r\n",
    "# Print the current value of the bond portfolio\r\n",
    "print(f\"the current value of the member's bond portion is ${agg_value:,.2f}\")\r\n"
   ]
  },
  {
   "cell_type": "code",
   "execution_count": 25,
   "metadata": {},
   "outputs": [
    {
     "name": "stdout",
     "output_type": "stream",
     "text": [
      "the current value of the member's stock portion is $48,389.00\n"
     ]
    }
   ],
   "source": [
    "# Calculate the current value of the stock portion of the portfolio\r\n",
    "spy_value = spy_shares * spy_close_price\r\n",
    "\r\n",
    "# Print the current value of the stock portfolio\r\n",
    "print(f\"the current value of the member's stock portion is ${spy_value:,.2f}\")"
   ]
  },
  {
   "cell_type": "code",
   "execution_count": 26,
   "metadata": {},
   "outputs": [
    {
     "name": "stdout",
     "output_type": "stream",
     "text": [
      "the current value of the member's stock and bond portion is $71,631.00\n"
     ]
    }
   ],
   "source": [
    "# Calculate the total value of the stock and bond portion of the portfolio\r\n",
    "total_stocks_bonds = spy_value + agg_value\r\n",
    "\r\n",
    "# Print the current balance of the stock and bond portion of the portfolio\r\n",
    "print(f\"the current value of the member's stock and bond portion is ${total_stocks_bonds:,.2f}\")\r\n"
   ]
  },
  {
   "cell_type": "code",
   "execution_count": 27,
   "metadata": {},
   "outputs": [
    {
     "name": "stdout",
     "output_type": "stream",
     "text": [
      "the current value of the member's savings portfolio is $130,210.43\n"
     ]
    }
   ],
   "source": [
    "# Calculate the total value of the member's entire savings portfolio\r\n",
    "# Add the value of the cryptocurrency walled to the value of the total stocks and bonds\r\n",
    "total_portfolio = total_crypto_wallet + total_stocks_bonds\r\n",
    "\r\n",
    "# Print current savings portfolio total value\r\n",
    "print(f\"the current value of the member's savings portfolio is ${total_portfolio:,.2f}\")\r\n"
   ]
  },
  {
   "cell_type": "markdown",
   "metadata": {},
   "source": [
    "### Evaluate the Emergency Fund\n",
    "\n",
    "In this section, you’ll use the valuations for the cryptocurrency wallet and for the stock and bond portions of the portfolio to determine if the credit union member has enough savings to build an emergency fund into their financial plan. To do this, complete the following steps:\n",
    "\n",
    "1. Create a Python list named `savings_data` that has two elements. The first element contains the total value of the cryptocurrency wallet. The second element contains the total value of the stock and bond portions of the portfolio.\n",
    "\n",
    "2. Use the `savings_data` list to create a Pandas DataFrame named `savings_df`, and then display this DataFrame. The function to create the DataFrame should take the following three parameters:\n",
    "\n",
    "    - `savings_data`: Use the list that you just created.\n",
    "\n",
    "    - `columns`: Set this parameter equal to a Python list with a single value called `amount`.\n",
    "\n",
    "    - `index`: Set this parameter equal to a Python list with the values of `crypto` and `stock/bond`.\n",
    "\n",
    "3. Use the `savings_df` DataFrame to plot a pie chart that visualizes the composition of the member’s portfolio. The y-axis of the pie chart uses `amount`. Be sure to add a title.\n",
    "\n",
    "4. Using Python, determine if the current portfolio has enough to create an emergency fund as part of the member’s financial plan. Ideally, an emergency fund should equal to three times the member’s monthly income. To do this, implement the following steps:\n",
    "\n",
    "    1. Create a variable named `emergency_fund_value`, and set it equal to three times the value of the member’s `monthly_income` of $12000. (You set this earlier in Part 1).\n",
    "\n",
    "    2. Create a series of three if statements to determine if the member’s total portfolio is large enough to fund the emergency portfolio:\n",
    "\n",
    "        1. If the total portfolio value is greater than the emergency fund value, display a message congratulating the member for having enough money in this fund.\n",
    "\n",
    "        2. Else if the total portfolio value is equal to the emergency fund value, display a message congratulating the member on reaching this important financial goal.\n",
    "\n",
    "        3. Else the total portfolio is less than the emergency fund value, so display a message showing how many dollars away the member is from reaching the goal. (Subtract the total portfolio value from the emergency fund value.)\n"
   ]
  },
  {
   "cell_type": "markdown",
   "metadata": {},
   "source": [
    "#### Step 1: Create a Python list named `savings_data` that has two elements. The first element contains the total value of the cryptocurrency wallet. The second element contains the total value of the stock and bond portions of the portfolio."
   ]
  },
  {
   "cell_type": "code",
   "execution_count": 28,
   "metadata": {},
   "outputs": [
    {
     "data": {
      "text/plain": [
       "[58579.426, 71631.0]"
      ]
     },
     "execution_count": 28,
     "metadata": {},
     "output_type": "execute_result"
    }
   ],
   "source": [
    "# Consolidate financial assets data into a Python list\r\n",
    "savings_data = [total_crypto_wallet, total_stocks_bonds]\r\n",
    "\r\n",
    "# Review the Python list savings_data\r\n",
    "savings_data"
   ]
  },
  {
   "cell_type": "markdown",
   "metadata": {},
   "source": [
    "#### Step 2: Use the `savings_data` list to create a Pandas DataFrame named `savings_df`, and then display this DataFrame. The function to create the DataFrame should take the following three parameters:\n",
    "\n",
    "- `savings_data`: Use the list that you just created.\n",
    "\n",
    "- `columns`: Set this parameter equal to a Python list with a single value called `amount`.\n",
    "\n",
    "- `index`: Set this parameter equal to a Python list with the values of `crypto` and `stock/bond`.\n"
   ]
  },
  {
   "cell_type": "code",
   "execution_count": 29,
   "metadata": {},
   "outputs": [
    {
     "data": {
      "text/html": [
       "<div>\n",
       "<style scoped>\n",
       "    .dataframe tbody tr th:only-of-type {\n",
       "        vertical-align: middle;\n",
       "    }\n",
       "\n",
       "    .dataframe tbody tr th {\n",
       "        vertical-align: top;\n",
       "    }\n",
       "\n",
       "    .dataframe thead th {\n",
       "        text-align: right;\n",
       "    }\n",
       "</style>\n",
       "<table border=\"1\" class=\"dataframe\">\n",
       "  <thead>\n",
       "    <tr style=\"text-align: right;\">\n",
       "      <th></th>\n",
       "      <th>amount</th>\n",
       "    </tr>\n",
       "  </thead>\n",
       "  <tbody>\n",
       "    <tr>\n",
       "      <th>crypto</th>\n",
       "      <td>58579.426</td>\n",
       "    </tr>\n",
       "    <tr>\n",
       "      <th>stock/bond</th>\n",
       "      <td>71631.000</td>\n",
       "    </tr>\n",
       "  </tbody>\n",
       "</table>\n",
       "</div>"
      ],
      "text/plain": [
       "               amount\n",
       "crypto      58579.426\n",
       "stock/bond  71631.000"
      ]
     },
     "execution_count": 29,
     "metadata": {},
     "output_type": "execute_result"
    }
   ],
   "source": [
    "# Create a Pandas DataFrame called savings_df \r\n",
    "savings_df = pd.DataFrame(\r\n",
    "    savings_data,\r\n",
    "    columns = ['amount'],\r\n",
    "    index = ['crypto','stock/bond']\r\n",
    ")\r\n",
    "\r\n",
    "# Display the savings_df DataFrame\r\n",
    "savings_df\r\n"
   ]
  },
  {
   "cell_type": "markdown",
   "metadata": {},
   "source": [
    "#### Step 3: Use the `savings_df` DataFrame to plot a pie chart that visualizes the composition of the member’s portfolio. The y-axis of the pie chart uses `amount`. Be sure to add a title."
   ]
  },
  {
   "cell_type": "code",
   "execution_count": 30,
   "metadata": {},
   "outputs": [
    {
     "data": {
      "text/plain": [
       "<AxesSubplot:title={'center':'Portfolio Composition as of 2021-07-23'}, ylabel='amount'>"
      ]
     },
     "execution_count": 30,
     "metadata": {},
     "output_type": "execute_result"
    },
    {
     "data": {
      "image/png": "[encoded data removed]",
      "text/plain": [
       "<Figure size 432x288 with 1 Axes>"
      ]
     },
     "metadata": {},
     "output_type": "display_data"
    }
   ],
   "source": [
    "# Plot the total value of the member's portfolio (crypto and stock/bond) in a pie chart\r\n",
    "savings_df.plot.pie(y='amount', title='Portfolio Composition as of 2021-07-23')\r\n"
   ]
  },
  {
   "cell_type": "markdown",
   "metadata": {},
   "source": [
    "#### Step 4: Using Python, determine if the current portfolio has enough to create an emergency fund as part of the member’s financial plan. Ideally, an emergency fund should equal to three times the member’s monthly income. To do this, implement the following steps:\n",
    "\n",
    "Step 1. Create a variable named `emergency_fund_value`, and set it equal to three times the value of the member’s `monthly_income` of 12000. (You set this earlier in Part 1).\n",
    "\n",
    "Step 2. Create a series of three if statements to determine if the member’s total portfolio is large enough to fund the emergency portfolio:\n",
    "\n",
    "* If the total portfolio value is greater than the emergency fund value, display a message congratulating the member for having enough money in this fund.\n",
    "\n",
    "* Else if the total portfolio value is equal to the emergency fund value, display a message congratulating the member on reaching this important financial goal.\n",
    "\n",
    "* Else the total portfolio is less than the emergency fund value, so display a message showing how many dollars away the member is from reaching the goal. (Subtract the total portfolio value from the emergency fund value.)\n"
   ]
  },
  {
   "cell_type": "markdown",
   "metadata": {},
   "source": [
    "##### Step 4-1: Create a variable named `emergency_fund_value`, and set it equal to three times the value of the member’s `monthly_income` of 12000. (You set this earlier in Part 1)."
   ]
  },
  {
   "cell_type": "code",
   "execution_count": 31,
   "metadata": {},
   "outputs": [],
   "source": [
    "# Create a variable named emergency_fund_value\r\n",
    "emergency_fund_value = monthly_income * 3\r\n"
   ]
  },
  {
   "cell_type": "markdown",
   "metadata": {},
   "source": [
    "##### Step 4-2: Create a series of three if statements to determine if the member’s total portfolio is large enough to fund the emergency portfolio:\n",
    "\n",
    "* If the total portfolio value is greater than the emergency fund value, display a message congratulating the member for having enough money in this fund.\n",
    "\n",
    "* Else if the total portfolio value is equal to the emergency fund value, display a message congratulating the member on reaching this important financial goal.\n",
    "\n",
    "* Else the total portfolio is less than the emergency fund value, so display a message showing how many dollars away the member is from reaching the goal. (Subtract the total portfolio value from the emergency fund value.)"
   ]
  },
  {
   "cell_type": "code",
   "execution_count": 32,
   "metadata": {},
   "outputs": [
    {
     "name": "stdout",
     "output_type": "stream",
     "text": [
      "HOW 'BOUT THEM APPLES!?\n",
      "With a portfolio value of $130,210.43 as of the most recent trading day 2021-07-23,\n",
      "and based upon your monthly income of $12,000.00, you are currently exceeding the\n",
      "recommended 'Emergency Fund Value' of $36,000.00 by $94,210.43!\n",
      "KEEP UP THE GOOD WORK!!\n"
     ]
    }
   ],
   "source": [
    "# Evaluate the possibility of creating an emergency fund with 3 conditions:\r\n",
    "if total_portfolio > emergency_fund_value:\r\n",
    "    print(f\"HOW 'BOUT THEM APPLES!?\\nWith a portfolio value of ${total_portfolio:,.2f} \"\r\n",
    "            f\"as of the most recent trading day {prior_weekday},\\n\"\r\n",
    "            f\"and based upon your monthly income of ${monthly_income:,.2f}, you are currently exceeding the\\n\"\r\n",
    "            f\"recommended 'Emergency Fund Value' of ${emergency_fund_value:,.2f} \"\r\n",
    "            f\"by ${total_portfolio - emergency_fund_value:,.2f}!\\n\"\r\n",
    "            f\"KEEP UP THE GOOD WORK!!\"\r\n",
    "        )\r\n",
    "elif total_portfolio == emergency_fund_value:\r\n",
    "    print(f\"NOW WE'RE TALKIN'!!\\n\"\r\n",
    "        f\"You've just hit the recommended 'Emergency Fund Value' of ${emergency_fund_value:,.2f}!\\n\"\r\n",
    "        f\"Now is the time to double down your efforts and continue your beneficial habit\\n\"\r\n",
    "        f\"of saving money in your portfolio for life's unexpected events.\\n\\n...\\n\\n\\n\"\r\n",
    "        f\"HUHHCHA!!!\\n\\n\\n...\\n\\n\\n...betcha didn't see that comin', did'ya?\\n\\nSee!?\\n\\nSuRpRiSeS!\")\r\n",
    "else:\r\n",
    "    print(f\"YOU'RE GETTING THERE!!\\n\"\r\n",
    "        f\"your portfolio value is currently behind the\\n\"\r\n",
    "        f\"${emergency_fund_value:,.2f} recommended 'Emergency Fund Value' by ${emergency_fund_value - total_portfolio:,.2f}\\n\"\r\n",
    "        f\"keep saving, and you'll get there if you keep up\\n\"\r\n",
    "        f\"the good saving habits you've been developing.\\n\"\r\n",
    "        f\"DON'T GIVE UP!! YOU CAN DO IT!\"\r\n",
    "    )\r\n"
   ]
  },
  {
   "cell_type": "markdown",
   "metadata": {},
   "source": [
    "## Part 2: Create a Financial Planner for Retirement"
   ]
  },
  {
   "cell_type": "markdown",
   "metadata": {},
   "source": [
    "### Create the Monte Carlo Simulation\n",
    "\n",
    "In this section, you’ll use the MCForecastTools library to create a Monte Carlo simulation for the member’s savings portfolio. To do this, complete the following steps:\n",
    "\n",
    "1. Make an API call via the Alpaca SDK to get 3 years of historical closing prices for a traditional 60/40 portfolio split: 60% stocks (SPY) and 40% bonds (AGG).\n",
    "\n",
    "2. Run a Monte Carlo simulation of 500 samples and 30 years for the 60/40 portfolio, and then plot the results.The following image shows the overlay line plot resulting from a simulation with these characteristics. However, because a random number generator is used to run each live Monte Carlo simulation, your image will differ slightly from this exact image:\n",
    "\n",
    "![A screenshot depicts the resulting plot.](Images/5-4-monte-carlo-line-plot.png)\n",
    "\n",
    "3. Plot the probability distribution of the Monte Carlo simulation. Plot the probability distribution of the Monte Carlo simulation. The following image shows the histogram plot resulting from a simulation with these characteristics. However, because a random number generator is used to run each live Monte Carlo simulation, your image will differ slightly from this exact image:\n",
    "\n",
    "![A screenshot depicts the histogram plot.](Images/5-4-monte-carlo-histogram.png)\n",
    "\n",
    "4. Generate the summary statistics for the Monte Carlo simulation.\n",
    "\n"
   ]
  },
  {
   "cell_type": "markdown",
   "metadata": {},
   "source": [
    "#### Step 1: Make an API call via the Alpaca SDK to get 3 years of historical closing prices for a traditional 60/40 portfolio split: 60% stocks (SPY) and 40% bonds (AGG)."
   ]
  },
  {
   "cell_type": "code",
   "execution_count": 33,
   "metadata": {},
   "outputs": [],
   "source": [
    "# Set start and end dates of 3 years back from your current date\r\n",
    "# Alternatively, you can use an end date of 2020-08-07 and work 3 years back from that date \r\n",
    "start_date = pd.Timestamp('2018-07-23',tz='America/New_York').isoformat()\r\n",
    "end_date = pd.Timestamp('2021-07-23',tz='America/New_York').isoformat()\r\n",
    "# Set number of rows to 1000 to retrieve the maximum amount of rows\r\n",
    "limit_rows = 1000"
   ]
  },
  {
   "cell_type": "code",
   "execution_count": 34,
   "metadata": {},
   "outputs": [],
   "source": [
    "# Use the Alpaca get_barset function to make the API call to get the 3 years worth of pricing data\r\n",
    "# The tickers and timeframe parameters should have been set in Part 1 of this activity \r\n",
    "# The start and end dates should be updated with the information set above\r\n",
    "# Remember to add the df property to the end of the call so the response is returned as a DataFrame\r\n",
    "prices_df = alpaca.get_barset(\r\n",
    "    tickers,\r\n",
    "    timeframe,\r\n",
    "    start=start_date,\r\n",
    "    end=end_date,\r\n",
    "    limit=limit_rows\r\n",
    ").df\r\n"
   ]
  },
  {
   "cell_type": "code",
   "execution_count": 35,
   "metadata": {},
   "outputs": [
    {
     "data": {
      "text/html": [
       "<div>\n",
       "<style scoped>\n",
       "    .dataframe tbody tr th:only-of-type {\n",
       "        vertical-align: middle;\n",
       "    }\n",
       "\n",
       "    .dataframe tbody tr th {\n",
       "        vertical-align: top;\n",
       "    }\n",
       "\n",
       "    .dataframe thead tr th {\n",
       "        text-align: left;\n",
       "    }\n",
       "\n",
       "    .dataframe thead tr:last-of-type th {\n",
       "        text-align: right;\n",
       "    }\n",
       "</style>\n",
       "<table border=\"1\" class=\"dataframe\">\n",
       "  <thead>\n",
       "    <tr>\n",
       "      <th></th>\n",
       "      <th colspan=\"5\" halign=\"left\">AGG</th>\n",
       "      <th colspan=\"5\" halign=\"left\">SPY</th>\n",
       "    </tr>\n",
       "    <tr>\n",
       "      <th></th>\n",
       "      <th>open</th>\n",
       "      <th>high</th>\n",
       "      <th>low</th>\n",
       "      <th>close</th>\n",
       "      <th>volume</th>\n",
       "      <th>open</th>\n",
       "      <th>high</th>\n",
       "      <th>low</th>\n",
       "      <th>close</th>\n",
       "      <th>volume</th>\n",
       "    </tr>\n",
       "    <tr>\n",
       "      <th>time</th>\n",
       "      <th></th>\n",
       "      <th></th>\n",
       "      <th></th>\n",
       "      <th></th>\n",
       "      <th></th>\n",
       "      <th></th>\n",
       "      <th></th>\n",
       "      <th></th>\n",
       "      <th></th>\n",
       "      <th></th>\n",
       "    </tr>\n",
       "  </thead>\n",
       "  <tbody>\n",
       "    <tr>\n",
       "      <th>2018-07-23 00:00:00-04:00</th>\n",
       "      <td>106.17</td>\n",
       "      <td>106.1850</td>\n",
       "      <td>105.8850</td>\n",
       "      <td>105.910</td>\n",
       "      <td>1603571</td>\n",
       "      <td>279.45</td>\n",
       "      <td>280.43</td>\n",
       "      <td>279.06</td>\n",
       "      <td>280.24</td>\n",
       "      <td>34039725</td>\n",
       "    </tr>\n",
       "    <tr>\n",
       "      <th>2018-07-24 00:00:00-04:00</th>\n",
       "      <td>105.92</td>\n",
       "      <td>106.0700</td>\n",
       "      <td>105.9001</td>\n",
       "      <td>106.040</td>\n",
       "      <td>1924876</td>\n",
       "      <td>281.79</td>\n",
       "      <td>282.56</td>\n",
       "      <td>280.63</td>\n",
       "      <td>281.57</td>\n",
       "      <td>46684350</td>\n",
       "    </tr>\n",
       "    <tr>\n",
       "      <th>2018-07-25 00:00:00-04:00</th>\n",
       "      <td>106.12</td>\n",
       "      <td>106.1700</td>\n",
       "      <td>105.9500</td>\n",
       "      <td>106.050</td>\n",
       "      <td>2028743</td>\n",
       "      <td>281.33</td>\n",
       "      <td>284.37</td>\n",
       "      <td>281.28</td>\n",
       "      <td>284.13</td>\n",
       "      <td>50868250</td>\n",
       "    </tr>\n",
       "    <tr>\n",
       "      <th>2018-07-26 00:00:00-04:00</th>\n",
       "      <td>106.10</td>\n",
       "      <td>106.1500</td>\n",
       "      <td>105.9500</td>\n",
       "      <td>106.000</td>\n",
       "      <td>1721051</td>\n",
       "      <td>283.21</td>\n",
       "      <td>284.11</td>\n",
       "      <td>283.09</td>\n",
       "      <td>283.29</td>\n",
       "      <td>38319472</td>\n",
       "    </tr>\n",
       "    <tr>\n",
       "      <th>2018-07-27 00:00:00-04:00</th>\n",
       "      <td>106.13</td>\n",
       "      <td>106.1599</td>\n",
       "      <td>106.0400</td>\n",
       "      <td>106.075</td>\n",
       "      <td>1261312</td>\n",
       "      <td>283.71</td>\n",
       "      <td>283.82</td>\n",
       "      <td>280.38</td>\n",
       "      <td>281.46</td>\n",
       "      <td>57211361</td>\n",
       "    </tr>\n",
       "  </tbody>\n",
       "</table>\n",
       "</div>"
      ],
      "text/plain": [
       "                              AGG                                        \\\n",
       "                             open      high       low    close   volume   \n",
       "time                                                                      \n",
       "2018-07-23 00:00:00-04:00  106.17  106.1850  105.8850  105.910  1603571   \n",
       "2018-07-24 00:00:00-04:00  105.92  106.0700  105.9001  106.040  1924876   \n",
       "2018-07-25 00:00:00-04:00  106.12  106.1700  105.9500  106.050  2028743   \n",
       "2018-07-26 00:00:00-04:00  106.10  106.1500  105.9500  106.000  1721051   \n",
       "2018-07-27 00:00:00-04:00  106.13  106.1599  106.0400  106.075  1261312   \n",
       "\n",
       "                              SPY                                    \n",
       "                             open    high     low   close    volume  \n",
       "time                                                                 \n",
       "2018-07-23 00:00:00-04:00  279.45  280.43  279.06  280.24  34039725  \n",
       "2018-07-24 00:00:00-04:00  281.79  282.56  280.63  281.57  46684350  \n",
       "2018-07-25 00:00:00-04:00  281.33  284.37  281.28  284.13  50868250  \n",
       "2018-07-26 00:00:00-04:00  283.21  284.11  283.09  283.29  38319472  \n",
       "2018-07-27 00:00:00-04:00  283.71  283.82  280.38  281.46  57211361  "
      ]
     },
     "metadata": {},
     "output_type": "display_data"
    },
    {
     "data": {
      "text/html": [
       "<div>\n",
       "<style scoped>\n",
       "    .dataframe tbody tr th:only-of-type {\n",
       "        vertical-align: middle;\n",
       "    }\n",
       "\n",
       "    .dataframe tbody tr th {\n",
       "        vertical-align: top;\n",
       "    }\n",
       "\n",
       "    .dataframe thead tr th {\n",
       "        text-align: left;\n",
       "    }\n",
       "\n",
       "    .dataframe thead tr:last-of-type th {\n",
       "        text-align: right;\n",
       "    }\n",
       "</style>\n",
       "<table border=\"1\" class=\"dataframe\">\n",
       "  <thead>\n",
       "    <tr>\n",
       "      <th></th>\n",
       "      <th colspan=\"5\" halign=\"left\">AGG</th>\n",
       "      <th colspan=\"5\" halign=\"left\">SPY</th>\n",
       "    </tr>\n",
       "    <tr>\n",
       "      <th></th>\n",
       "      <th>open</th>\n",
       "      <th>high</th>\n",
       "      <th>low</th>\n",
       "      <th>close</th>\n",
       "      <th>volume</th>\n",
       "      <th>open</th>\n",
       "      <th>high</th>\n",
       "      <th>low</th>\n",
       "      <th>close</th>\n",
       "      <th>volume</th>\n",
       "    </tr>\n",
       "    <tr>\n",
       "      <th>time</th>\n",
       "      <th></th>\n",
       "      <th></th>\n",
       "      <th></th>\n",
       "      <th></th>\n",
       "      <th></th>\n",
       "      <th></th>\n",
       "      <th></th>\n",
       "      <th></th>\n",
       "      <th></th>\n",
       "      <th></th>\n",
       "    </tr>\n",
       "  </thead>\n",
       "  <tbody>\n",
       "    <tr>\n",
       "      <th>2021-07-19 00:00:00-04:00</th>\n",
       "      <td>116.390</td>\n",
       "      <td>116.6085</td>\n",
       "      <td>116.35</td>\n",
       "      <td>116.52</td>\n",
       "      <td>6476334</td>\n",
       "      <td>426.19</td>\n",
       "      <td>431.4089</td>\n",
       "      <td>421.9700</td>\n",
       "      <td>424.97</td>\n",
       "      <td>127607115</td>\n",
       "    </tr>\n",
       "    <tr>\n",
       "      <th>2021-07-20 00:00:00-04:00</th>\n",
       "      <td>116.780</td>\n",
       "      <td>116.8200</td>\n",
       "      <td>116.32</td>\n",
       "      <td>116.39</td>\n",
       "      <td>7229222</td>\n",
       "      <td>425.68</td>\n",
       "      <td>432.4200</td>\n",
       "      <td>424.8300</td>\n",
       "      <td>431.04</td>\n",
       "      <td>87430308</td>\n",
       "    </tr>\n",
       "    <tr>\n",
       "      <th>2021-07-21 00:00:00-04:00</th>\n",
       "      <td>116.075</td>\n",
       "      <td>116.1500</td>\n",
       "      <td>115.92</td>\n",
       "      <td>116.02</td>\n",
       "      <td>7773071</td>\n",
       "      <td>432.34</td>\n",
       "      <td>434.7000</td>\n",
       "      <td>431.0111</td>\n",
       "      <td>434.56</td>\n",
       "      <td>54251351</td>\n",
       "    </tr>\n",
       "    <tr>\n",
       "      <th>2021-07-22 00:00:00-04:00</th>\n",
       "      <td>116.030</td>\n",
       "      <td>116.3500</td>\n",
       "      <td>116.03</td>\n",
       "      <td>116.29</td>\n",
       "      <td>6269656</td>\n",
       "      <td>434.74</td>\n",
       "      <td>435.7200</td>\n",
       "      <td>433.6900</td>\n",
       "      <td>435.50</td>\n",
       "      <td>41998182</td>\n",
       "    </tr>\n",
       "    <tr>\n",
       "      <th>2021-07-23 00:00:00-04:00</th>\n",
       "      <td>116.030</td>\n",
       "      <td>116.2200</td>\n",
       "      <td>116.03</td>\n",
       "      <td>116.21</td>\n",
       "      <td>4137100</td>\n",
       "      <td>437.53</td>\n",
       "      <td>440.3000</td>\n",
       "      <td>436.7900</td>\n",
       "      <td>439.90</td>\n",
       "      <td>53294703</td>\n",
       "    </tr>\n",
       "  </tbody>\n",
       "</table>\n",
       "</div>"
      ],
      "text/plain": [
       "                               AGG                                        SPY  \\\n",
       "                              open      high     low   close   volume    open   \n",
       "time                                                                            \n",
       "2021-07-19 00:00:00-04:00  116.390  116.6085  116.35  116.52  6476334  426.19   \n",
       "2021-07-20 00:00:00-04:00  116.780  116.8200  116.32  116.39  7229222  425.68   \n",
       "2021-07-21 00:00:00-04:00  116.075  116.1500  115.92  116.02  7773071  432.34   \n",
       "2021-07-22 00:00:00-04:00  116.030  116.3500  116.03  116.29  6269656  434.74   \n",
       "2021-07-23 00:00:00-04:00  116.030  116.2200  116.03  116.21  4137100  437.53   \n",
       "\n",
       "                                                                  \n",
       "                               high       low   close     volume  \n",
       "time                                                              \n",
       "2021-07-19 00:00:00-04:00  431.4089  421.9700  424.97  127607115  \n",
       "2021-07-20 00:00:00-04:00  432.4200  424.8300  431.04   87430308  \n",
       "2021-07-21 00:00:00-04:00  434.7000  431.0111  434.56   54251351  \n",
       "2021-07-22 00:00:00-04:00  435.7200  433.6900  435.50   41998182  \n",
       "2021-07-23 00:00:00-04:00  440.3000  436.7900  439.90   53294703  "
      ]
     },
     "metadata": {},
     "output_type": "display_data"
    }
   ],
   "source": [
    "# Display both the first and last five rows of the DataFrame\r\n",
    "display(prices_df.head())\r\n",
    "display(prices_df.tail())"
   ]
  },
  {
   "cell_type": "markdown",
   "metadata": {},
   "source": [
    "#### Step 2: Run a Monte Carlo simulation of 500 samples and 30 years for the 60/40 portfolio, and then plot the results."
   ]
  },
  {
   "cell_type": "code",
   "execution_count": 37,
   "metadata": {},
   "outputs": [
    {
     "data": {
      "text/html": [
       "<div>\n",
       "<style scoped>\n",
       "    .dataframe tbody tr th:only-of-type {\n",
       "        vertical-align: middle;\n",
       "    }\n",
       "\n",
       "    .dataframe tbody tr th {\n",
       "        vertical-align: top;\n",
       "    }\n",
       "\n",
       "    .dataframe thead tr th {\n",
       "        text-align: left;\n",
       "    }\n",
       "\n",
       "    .dataframe thead tr:last-of-type th {\n",
       "        text-align: right;\n",
       "    }\n",
       "</style>\n",
       "<table border=\"1\" class=\"dataframe\">\n",
       "  <thead>\n",
       "    <tr>\n",
       "      <th></th>\n",
       "      <th colspan=\"6\" halign=\"left\">AGG</th>\n",
       "      <th colspan=\"6\" halign=\"left\">SPY</th>\n",
       "    </tr>\n",
       "    <tr>\n",
       "      <th></th>\n",
       "      <th>open</th>\n",
       "      <th>high</th>\n",
       "      <th>low</th>\n",
       "      <th>close</th>\n",
       "      <th>volume</th>\n",
       "      <th>daily_return</th>\n",
       "      <th>open</th>\n",
       "      <th>high</th>\n",
       "      <th>low</th>\n",
       "      <th>close</th>\n",
       "      <th>volume</th>\n",
       "      <th>daily_return</th>\n",
       "    </tr>\n",
       "    <tr>\n",
       "      <th>time</th>\n",
       "      <th></th>\n",
       "      <th></th>\n",
       "      <th></th>\n",
       "      <th></th>\n",
       "      <th></th>\n",
       "      <th></th>\n",
       "      <th></th>\n",
       "      <th></th>\n",
       "      <th></th>\n",
       "      <th></th>\n",
       "      <th></th>\n",
       "      <th></th>\n",
       "    </tr>\n",
       "  </thead>\n",
       "  <tbody>\n",
       "    <tr>\n",
       "      <th>2018-07-23 00:00:00-04:00</th>\n",
       "      <td>106.17</td>\n",
       "      <td>106.1850</td>\n",
       "      <td>105.8850</td>\n",
       "      <td>105.910</td>\n",
       "      <td>1603571</td>\n",
       "      <td>NaN</td>\n",
       "      <td>279.45</td>\n",
       "      <td>280.43</td>\n",
       "      <td>279.06</td>\n",
       "      <td>280.24</td>\n",
       "      <td>34039725</td>\n",
       "      <td>NaN</td>\n",
       "    </tr>\n",
       "    <tr>\n",
       "      <th>2018-07-24 00:00:00-04:00</th>\n",
       "      <td>105.92</td>\n",
       "      <td>106.0700</td>\n",
       "      <td>105.9001</td>\n",
       "      <td>106.040</td>\n",
       "      <td>1924876</td>\n",
       "      <td>0.001227</td>\n",
       "      <td>281.79</td>\n",
       "      <td>282.56</td>\n",
       "      <td>280.63</td>\n",
       "      <td>281.57</td>\n",
       "      <td>46684350</td>\n",
       "      <td>0.004746</td>\n",
       "    </tr>\n",
       "    <tr>\n",
       "      <th>2018-07-25 00:00:00-04:00</th>\n",
       "      <td>106.12</td>\n",
       "      <td>106.1700</td>\n",
       "      <td>105.9500</td>\n",
       "      <td>106.050</td>\n",
       "      <td>2028743</td>\n",
       "      <td>0.000094</td>\n",
       "      <td>281.33</td>\n",
       "      <td>284.37</td>\n",
       "      <td>281.28</td>\n",
       "      <td>284.13</td>\n",
       "      <td>50868250</td>\n",
       "      <td>0.009092</td>\n",
       "    </tr>\n",
       "    <tr>\n",
       "      <th>2018-07-26 00:00:00-04:00</th>\n",
       "      <td>106.10</td>\n",
       "      <td>106.1500</td>\n",
       "      <td>105.9500</td>\n",
       "      <td>106.000</td>\n",
       "      <td>1721051</td>\n",
       "      <td>-0.000471</td>\n",
       "      <td>283.21</td>\n",
       "      <td>284.11</td>\n",
       "      <td>283.09</td>\n",
       "      <td>283.29</td>\n",
       "      <td>38319472</td>\n",
       "      <td>-0.002956</td>\n",
       "    </tr>\n",
       "    <tr>\n",
       "      <th>2018-07-27 00:00:00-04:00</th>\n",
       "      <td>106.13</td>\n",
       "      <td>106.1599</td>\n",
       "      <td>106.0400</td>\n",
       "      <td>106.075</td>\n",
       "      <td>1261312</td>\n",
       "      <td>0.000708</td>\n",
       "      <td>283.71</td>\n",
       "      <td>283.82</td>\n",
       "      <td>280.38</td>\n",
       "      <td>281.46</td>\n",
       "      <td>57211361</td>\n",
       "      <td>-0.006460</td>\n",
       "    </tr>\n",
       "  </tbody>\n",
       "</table>\n",
       "</div>"
      ],
      "text/plain": [
       "                              AGG                                        \\\n",
       "                             open      high       low    close   volume   \n",
       "time                                                                      \n",
       "2018-07-23 00:00:00-04:00  106.17  106.1850  105.8850  105.910  1603571   \n",
       "2018-07-24 00:00:00-04:00  105.92  106.0700  105.9001  106.040  1924876   \n",
       "2018-07-25 00:00:00-04:00  106.12  106.1700  105.9500  106.050  2028743   \n",
       "2018-07-26 00:00:00-04:00  106.10  106.1500  105.9500  106.000  1721051   \n",
       "2018-07-27 00:00:00-04:00  106.13  106.1599  106.0400  106.075  1261312   \n",
       "\n",
       "                                           SPY                          \\\n",
       "                          daily_return    open    high     low   close   \n",
       "time                                                                     \n",
       "2018-07-23 00:00:00-04:00          NaN  279.45  280.43  279.06  280.24   \n",
       "2018-07-24 00:00:00-04:00     0.001227  281.79  282.56  280.63  281.57   \n",
       "2018-07-25 00:00:00-04:00     0.000094  281.33  284.37  281.28  284.13   \n",
       "2018-07-26 00:00:00-04:00    -0.000471  283.21  284.11  283.09  283.29   \n",
       "2018-07-27 00:00:00-04:00     0.000708  283.71  283.82  280.38  281.46   \n",
       "\n",
       "                                                  \n",
       "                             volume daily_return  \n",
       "time                                              \n",
       "2018-07-23 00:00:00-04:00  34039725          NaN  \n",
       "2018-07-24 00:00:00-04:00  46684350     0.004746  \n",
       "2018-07-25 00:00:00-04:00  50868250     0.009092  \n",
       "2018-07-26 00:00:00-04:00  38319472    -0.002956  \n",
       "2018-07-27 00:00:00-04:00  57211361    -0.006460  "
      ]
     },
     "execution_count": 37,
     "metadata": {},
     "output_type": "execute_result"
    }
   ],
   "source": [
    "# Configure the Monte Carlo simulation to forecast 30 years cumulative returns\r\n",
    "# The weights should be split 40% to AGG and 60% to SPY.\r\n",
    "# Run 500 samples.\r\n",
    "mc_spy = MCSimulation(\r\n",
    "    portfolio_data=prices_df,\r\n",
    "    weights=[.40,.60],\r\n",
    "    num_simulation=500,\r\n",
    "    num_trading_days=252*30\r\n",
    ")\r\n",
    "\r\n",
    "# Review the simulation input data\r\n",
    "mc_spy.portfolio_data.head()"
   ]
  },
  {
   "cell_type": "code",
   "execution_count": 38,
   "metadata": {},
   "outputs": [
    {
     "name": "stdout",
     "output_type": "stream",
     "text": [
      "Running Monte Carlo simulation number 0.\n",
      "Running Monte Carlo simulation number 10.\n",
      "Running Monte Carlo simulation number 20.\n",
      "Running Monte Carlo simulation number 30.\n",
      "Running Monte Carlo simulation number 40.\n",
      "Running Monte Carlo simulation number 50.\n",
      "Running Monte Carlo simulation number 60.\n"
     ]
    }
   ],
   "source": [
    "# Run the Monte Carlo simulation to forecast 30 years cumulative returns\r\n",
    "mc_spy.calc_cumulative_return()\r\n"
   ]
  },
  {
   "cell_type": "code",
   "execution_count": null,
   "metadata": {},
   "outputs": [
    {
     "data": {
      "image/png": "[encoded data removed]",
      "text/plain": [
       "<Figure size 432x288 with 1 Axes>"
      ]
     },
     "metadata": {
      "needs_background": "light"
     },
     "output_type": "display_data"
    }
   ],
   "source": [
    "# Visualize the 30-year Monte Carlo simulation by creating an\r\n",
    "# overlay line plot\r\n",
    "mc_spy_line_plot = mc_spy.plot_simulation()\r\n"
   ]
  },
  {
   "cell_type": "markdown",
   "metadata": {},
   "source": [
    "#### Step 3: Plot the probability distribution of the Monte Carlo simulation."
   ]
  },
  {
   "cell_type": "code",
   "execution_count": null,
   "metadata": {},
   "outputs": [
    {
     "data": {
      "image/png": "[encoded data removed]",
      "text/plain": [
       "<Figure size 432x288 with 1 Axes>"
      ]
     },
     "metadata": {
      "needs_background": "light"
     },
     "output_type": "display_data"
    }
   ],
   "source": [
    "# Visualize the probability distribution of the 30-year Monte Carlo simulation \r\n",
    "# by plotting a histogram\r\n",
    "mc_spy_distribution_plot = mc_spy.plot_distribution()\r\n"
   ]
  },
  {
   "cell_type": "markdown",
   "metadata": {},
   "source": [
    "#### Step 4: Generate the summary statistics for the Monte Carlo simulation."
   ]
  },
  {
   "cell_type": "code",
   "execution_count": null,
   "metadata": {},
   "outputs": [
    {
     "name": "stdout",
     "output_type": "stream",
     "text": [
      "count           500.000000\n",
      "mean             34.223935\n",
      "std              30.023720\n",
      "min               2.968107\n",
      "25%              14.879490\n",
      "50%              26.389657\n",
      "75%              44.672242\n",
      "max             300.774373\n",
      "95% CI Lower      5.585348\n",
      "95% CI Upper    104.158988\n",
      "Name: 7560, dtype: float64\n"
     ]
    }
   ],
   "source": [
    "# Generate summary statistics from the 30-year Monte Carlo simulation results\r\n",
    "# Save the results as a variable\r\n",
    "mc_spy_table = mc_spy.summarize_cumulative_return()\r\n",
    "\r\n",
    "\r\n",
    "# Review the 30-year Monte Carlo summary statistics\r\n",
    "print(mc_spy_table)"
   ]
  },
  {
   "cell_type": "markdown",
   "metadata": {},
   "source": [
    "### Analyze the Retirement Portfolio Forecasts\n",
    "\n",
    "Using the current value of only the stock and bond portion of the member's portfolio and the summary statistics that you generated from the Monte Carlo simulation, answer the following question in your Jupyter notebook:\n",
    "\n",
    "-  What are the lower and upper bounds for the expected value of the portfolio with a 95% confidence interval?\n"
   ]
  },
  {
   "cell_type": "code",
   "execution_count": null,
   "metadata": {},
   "outputs": [
    {
     "name": "stdout",
     "output_type": "stream",
     "text": [
      "the current value of the member's stock and bond portion of their portfolio is $71,631.00\n"
     ]
    }
   ],
   "source": [
    "# Print the current balance of the stock and bond portion of the members portfolio\r\n",
    "print(f\"the current value of the member's stock and bond portion of their portfolio is ${total_stocks_bonds:,.2f}\")\r\n"
   ]
  },
  {
   "cell_type": "code",
   "execution_count": null,
   "metadata": {},
   "outputs": [
    {
     "name": "stdout",
     "output_type": "stream",
     "text": [
      "There is a 95% chance that a portfolio valued at $71,631.00,with a weight distribution of 60% SPY and 40% AGG,\n",
      "over the next 30 years will end within in the range of $400,084.03 and $7,461,012.48.\n"
     ]
    }
   ],
   "source": [
    "# Use the lower and upper `95%` confidence intervals to calculate the range of the possible outcomes for the current stock/bond portfolio\r\n",
    "ci_lower_thirty_cumulative_return = round(mc_spy_table[8]*total_stocks_bonds,2)\r\n",
    "ci_upper_thirty_cumulative_return = round(mc_spy_table[9]*total_stocks_bonds,2)\r\n",
    "\r\n",
    "# Print the result of your calculations\r\n",
    "print(f\"There is a 95% chance that a portfolio valued at ${total_stocks_bonds:,.2f},with a weight distribution of 60% SPY and 40% AGG,\\n\"\r\n",
    "      f\"over the next 30 years will end within in the range of\"\r\n",
    "      f\" ${ci_lower_thirty_cumulative_return:,.2f} and ${ci_upper_thirty_cumulative_return:,.2f}.\")\r\n"
   ]
  },
  {
   "cell_type": "markdown",
   "metadata": {},
   "source": [
    "### Forecast Cumulative Returns in 10 Years\n",
    "\n",
    "The CTO of the credit union is impressed with your work on these planning tools but wonders if 30 years is a long time to wait until retirement. So, your next task is to adjust the retirement portfolio and run a new Monte Carlo simulation to find out if the changes will allow members to retire earlier.\n",
    "\n",
    "For this new Monte Carlo simulation, do the following: \n",
    "\n",
    "- Forecast the cumulative returns for 10 years from now. Because of the shortened investment horizon (30 years to 10 years), the portfolio needs to invest more heavily in the riskier asset&mdash;that is, stock&mdash;to help accumulate wealth for retirement. \n",
    "\n",
    "- Adjust the weights of the retirement portfolio so that the composition for the Monte Carlo simulation consists of 20% bonds and 80% stocks. \n",
    "\n",
    "- Run the simulation over 500 samples, and use the same data that the API call to Alpaca generated.\n",
    "\n",
    "- Based on the new Monte Carlo simulation, answer the following questions in your Jupyter notebook:\n",
    "\n",
    "    - Using the current value of only the stock and bond portion of the member's portfolio and the summary statistics that you generated from the new Monte Carlo simulation, what are the lower and upper bounds for the expected value of the portfolio (with the new weights) with a 95% confidence interval?\n",
    "\n",
    "    - Will weighting the portfolio more heavily toward stocks allow the credit union members to retire after only 10 years?\n"
   ]
  },
  {
   "cell_type": "code",
   "execution_count": null,
   "metadata": {},
   "outputs": [
    {
     "data": {
      "text/html": [
       "<div>\n",
       "<style scoped>\n",
       "    .dataframe tbody tr th:only-of-type {\n",
       "        vertical-align: middle;\n",
       "    }\n",
       "\n",
       "    .dataframe tbody tr th {\n",
       "        vertical-align: top;\n",
       "    }\n",
       "\n",
       "    .dataframe thead tr th {\n",
       "        text-align: left;\n",
       "    }\n",
       "\n",
       "    .dataframe thead tr:last-of-type th {\n",
       "        text-align: right;\n",
       "    }\n",
       "</style>\n",
       "<table border=\"1\" class=\"dataframe\">\n",
       "  <thead>\n",
       "    <tr>\n",
       "      <th></th>\n",
       "      <th colspan=\"6\" halign=\"left\">AGG</th>\n",
       "      <th colspan=\"6\" halign=\"left\">SPY</th>\n",
       "    </tr>\n",
       "    <tr>\n",
       "      <th></th>\n",
       "      <th>open</th>\n",
       "      <th>high</th>\n",
       "      <th>low</th>\n",
       "      <th>close</th>\n",
       "      <th>volume</th>\n",
       "      <th>daily_return</th>\n",
       "      <th>open</th>\n",
       "      <th>high</th>\n",
       "      <th>low</th>\n",
       "      <th>close</th>\n",
       "      <th>volume</th>\n",
       "      <th>daily_return</th>\n",
       "    </tr>\n",
       "    <tr>\n",
       "      <th>time</th>\n",
       "      <th></th>\n",
       "      <th></th>\n",
       "      <th></th>\n",
       "      <th></th>\n",
       "      <th></th>\n",
       "      <th></th>\n",
       "      <th></th>\n",
       "      <th></th>\n",
       "      <th></th>\n",
       "      <th></th>\n",
       "      <th></th>\n",
       "      <th></th>\n",
       "    </tr>\n",
       "  </thead>\n",
       "  <tbody>\n",
       "    <tr>\n",
       "      <th>2018-07-23 00:00:00-04:00</th>\n",
       "      <td>106.17</td>\n",
       "      <td>106.1850</td>\n",
       "      <td>105.8850</td>\n",
       "      <td>105.910</td>\n",
       "      <td>1603571</td>\n",
       "      <td>NaN</td>\n",
       "      <td>279.45</td>\n",
       "      <td>280.43</td>\n",
       "      <td>279.06</td>\n",
       "      <td>280.24</td>\n",
       "      <td>34039725</td>\n",
       "      <td>NaN</td>\n",
       "    </tr>\n",
       "    <tr>\n",
       "      <th>2018-07-24 00:00:00-04:00</th>\n",
       "      <td>105.92</td>\n",
       "      <td>106.0700</td>\n",
       "      <td>105.9001</td>\n",
       "      <td>106.040</td>\n",
       "      <td>1924876</td>\n",
       "      <td>0.001227</td>\n",
       "      <td>281.79</td>\n",
       "      <td>282.56</td>\n",
       "      <td>280.63</td>\n",
       "      <td>281.57</td>\n",
       "      <td>46684350</td>\n",
       "      <td>0.004746</td>\n",
       "    </tr>\n",
       "    <tr>\n",
       "      <th>2018-07-25 00:00:00-04:00</th>\n",
       "      <td>106.12</td>\n",
       "      <td>106.1700</td>\n",
       "      <td>105.9500</td>\n",
       "      <td>106.050</td>\n",
       "      <td>2028743</td>\n",
       "      <td>0.000094</td>\n",
       "      <td>281.33</td>\n",
       "      <td>284.37</td>\n",
       "      <td>281.28</td>\n",
       "      <td>284.13</td>\n",
       "      <td>50868250</td>\n",
       "      <td>0.009092</td>\n",
       "    </tr>\n",
       "    <tr>\n",
       "      <th>2018-07-26 00:00:00-04:00</th>\n",
       "      <td>106.10</td>\n",
       "      <td>106.1500</td>\n",
       "      <td>105.9500</td>\n",
       "      <td>106.000</td>\n",
       "      <td>1721051</td>\n",
       "      <td>-0.000471</td>\n",
       "      <td>283.21</td>\n",
       "      <td>284.11</td>\n",
       "      <td>283.09</td>\n",
       "      <td>283.29</td>\n",
       "      <td>38319472</td>\n",
       "      <td>-0.002956</td>\n",
       "    </tr>\n",
       "    <tr>\n",
       "      <th>2018-07-27 00:00:00-04:00</th>\n",
       "      <td>106.13</td>\n",
       "      <td>106.1599</td>\n",
       "      <td>106.0400</td>\n",
       "      <td>106.075</td>\n",
       "      <td>1261312</td>\n",
       "      <td>0.000708</td>\n",
       "      <td>283.71</td>\n",
       "      <td>283.82</td>\n",
       "      <td>280.38</td>\n",
       "      <td>281.46</td>\n",
       "      <td>57211361</td>\n",
       "      <td>-0.006460</td>\n",
       "    </tr>\n",
       "  </tbody>\n",
       "</table>\n",
       "</div>"
      ],
      "text/plain": [
       "                              AGG                                        \\\n",
       "                             open      high       low    close   volume   \n",
       "time                                                                      \n",
       "2018-07-23 00:00:00-04:00  106.17  106.1850  105.8850  105.910  1603571   \n",
       "2018-07-24 00:00:00-04:00  105.92  106.0700  105.9001  106.040  1924876   \n",
       "2018-07-25 00:00:00-04:00  106.12  106.1700  105.9500  106.050  2028743   \n",
       "2018-07-26 00:00:00-04:00  106.10  106.1500  105.9500  106.000  1721051   \n",
       "2018-07-27 00:00:00-04:00  106.13  106.1599  106.0400  106.075  1261312   \n",
       "\n",
       "                                           SPY                          \\\n",
       "                          daily_return    open    high     low   close   \n",
       "time                                                                     \n",
       "2018-07-23 00:00:00-04:00          NaN  279.45  280.43  279.06  280.24   \n",
       "2018-07-24 00:00:00-04:00     0.001227  281.79  282.56  280.63  281.57   \n",
       "2018-07-25 00:00:00-04:00     0.000094  281.33  284.37  281.28  284.13   \n",
       "2018-07-26 00:00:00-04:00    -0.000471  283.21  284.11  283.09  283.29   \n",
       "2018-07-27 00:00:00-04:00     0.000708  283.71  283.82  280.38  281.46   \n",
       "\n",
       "                                                  \n",
       "                             volume daily_return  \n",
       "time                                              \n",
       "2018-07-23 00:00:00-04:00  34039725          NaN  \n",
       "2018-07-24 00:00:00-04:00  46684350     0.004746  \n",
       "2018-07-25 00:00:00-04:00  50868250     0.009092  \n",
       "2018-07-26 00:00:00-04:00  38319472    -0.002956  \n",
       "2018-07-27 00:00:00-04:00  57211361    -0.006460  "
      ]
     },
     "execution_count": 40,
     "metadata": {},
     "output_type": "execute_result"
    }
   ],
   "source": [
    "# Configure a Monte Carlo simulation to forecast 10 years cumulative returns\r\n",
    "# The weights should be split 20% to AGG and 80% to SPY.\r\n",
    "# Run 500 samples.\r\n",
    "mc_ten_year = MCSimulation(\r\n",
    "    portfolio_data = prices_df,\r\n",
    "    weights = [.20,.80],\r\n",
    "    num_simulation=500,\r\n",
    "    num_trading_days=252*10\r\n",
    ")\r\n",
    "\r\n",
    "# Review the simulation input data\r\n",
    "mc_ten_year.portfolio_data.head()\r\n"
   ]
  },
  {
   "cell_type": "code",
   "execution_count": null,
   "metadata": {},
   "outputs": [
    {
     "name": "stdout",
     "output_type": "stream",
     "text": [
      "Running Monte Carlo simulation number 0.\n",
      "Running Monte Carlo simulation number 10.\n",
      "Running Monte Carlo simulation number 20.\n",
      "Running Monte Carlo simulation number 30.\n",
      "Running Monte Carlo simulation number 40.\n",
      "Running Monte Carlo simulation number 50.\n",
      "Running Monte Carlo simulation number 60.\n",
      "Running Monte Carlo simulation number 70.\n",
      "Running Monte Carlo simulation number 80.\n",
      "Running Monte Carlo simulation number 90.\n",
      "Running Monte Carlo simulation number 100.\n",
      "Running Monte Carlo simulation number 110.\n",
      "Running Monte Carlo simulation number 120.\n",
      "Running Monte Carlo simulation number 130.\n",
      "Running Monte Carlo simulation number 140.\n",
      "Running Monte Carlo simulation number 150.\n",
      "Running Monte Carlo simulation number 160.\n",
      "Running Monte Carlo simulation number 170.\n",
      "Running Monte Carlo simulation number 180.\n",
      "Running Monte Carlo simulation number 190.\n",
      "Running Monte Carlo simulation number 200.\n",
      "Running Monte Carlo simulation number 210.\n",
      "Running Monte Carlo simulation number 220.\n",
      "Running Monte Carlo simulation number 230.\n",
      "Running Monte Carlo simulation number 240.\n",
      "Running Monte Carlo simulation number 250.\n",
      "Running Monte Carlo simulation number 260.\n",
      "Running Monte Carlo simulation number 270.\n",
      "Running Monte Carlo simulation number 280.\n",
      "Running Monte Carlo simulation number 290.\n",
      "Running Monte Carlo simulation number 300.\n",
      "Running Monte Carlo simulation number 310.\n",
      "Running Monte Carlo simulation number 320.\n",
      "Running Monte Carlo simulation number 330.\n",
      "Running Monte Carlo simulation number 340.\n",
      "Running Monte Carlo simulation number 350.\n",
      "Running Monte Carlo simulation number 360.\n",
      "Running Monte Carlo simulation number 370.\n",
      "Running Monte Carlo simulation number 380.\n",
      "Running Monte Carlo simulation number 390.\n",
      "Running Monte Carlo simulation number 400.\n",
      "Running Monte Carlo simulation number 410.\n",
      "Running Monte Carlo simulation number 420.\n",
      "Running Monte Carlo simulation number 430.\n",
      "Running Monte Carlo simulation number 440.\n",
      "Running Monte Carlo simulation number 450.\n",
      "Running Monte Carlo simulation number 460.\n",
      "Running Monte Carlo simulation number 470.\n",
      "Running Monte Carlo simulation number 480.\n",
      "Running Monte Carlo simulation number 490.\n"
     ]
    },
    {
     "data": {
      "text/html": [
       "<div>\n",
       "<style scoped>\n",
       "    .dataframe tbody tr th:only-of-type {\n",
       "        vertical-align: middle;\n",
       "    }\n",
       "\n",
       "    .dataframe tbody tr th {\n",
       "        vertical-align: top;\n",
       "    }\n",
       "\n",
       "    .dataframe thead th {\n",
       "        text-align: right;\n",
       "    }\n",
       "</style>\n",
       "<table border=\"1\" class=\"dataframe\">\n",
       "  <thead>\n",
       "    <tr style=\"text-align: right;\">\n",
       "      <th></th>\n",
       "      <th>0</th>\n",
       "      <th>1</th>\n",
       "      <th>2</th>\n",
       "      <th>3</th>\n",
       "      <th>4</th>\n",
       "      <th>5</th>\n",
       "      <th>6</th>\n",
       "      <th>7</th>\n",
       "      <th>8</th>\n",
       "      <th>9</th>\n",
       "      <th>...</th>\n",
       "      <th>490</th>\n",
       "      <th>491</th>\n",
       "      <th>492</th>\n",
       "      <th>493</th>\n",
       "      <th>494</th>\n",
       "      <th>495</th>\n",
       "      <th>496</th>\n",
       "      <th>497</th>\n",
       "      <th>498</th>\n",
       "      <th>499</th>\n",
       "    </tr>\n",
       "  </thead>\n",
       "  <tbody>\n",
       "    <tr>\n",
       "      <th>0</th>\n",
       "      <td>1.000000</td>\n",
       "      <td>1.000000</td>\n",
       "      <td>1.000000</td>\n",
       "      <td>1.000000</td>\n",
       "      <td>1.000000</td>\n",
       "      <td>1.000000</td>\n",
       "      <td>1.000000</td>\n",
       "      <td>1.000000</td>\n",
       "      <td>1.000000</td>\n",
       "      <td>1.000000</td>\n",
       "      <td>...</td>\n",
       "      <td>1.000000</td>\n",
       "      <td>1.000000</td>\n",
       "      <td>1.000000</td>\n",
       "      <td>1.000000</td>\n",
       "      <td>1.000000</td>\n",
       "      <td>1.000000</td>\n",
       "      <td>1.000000</td>\n",
       "      <td>1.000000</td>\n",
       "      <td>1.000000</td>\n",
       "      <td>1.000000</td>\n",
       "    </tr>\n",
       "    <tr>\n",
       "      <th>1</th>\n",
       "      <td>0.986707</td>\n",
       "      <td>0.989045</td>\n",
       "      <td>0.982200</td>\n",
       "      <td>0.969820</td>\n",
       "      <td>1.012812</td>\n",
       "      <td>0.995828</td>\n",
       "      <td>1.002789</td>\n",
       "      <td>1.030189</td>\n",
       "      <td>1.012835</td>\n",
       "      <td>1.004791</td>\n",
       "      <td>...</td>\n",
       "      <td>1.005661</td>\n",
       "      <td>0.987937</td>\n",
       "      <td>0.989907</td>\n",
       "      <td>1.000351</td>\n",
       "      <td>0.989499</td>\n",
       "      <td>0.988981</td>\n",
       "      <td>0.982288</td>\n",
       "      <td>1.019557</td>\n",
       "      <td>1.004281</td>\n",
       "      <td>1.017932</td>\n",
       "    </tr>\n",
       "    <tr>\n",
       "      <th>2</th>\n",
       "      <td>0.992111</td>\n",
       "      <td>1.009920</td>\n",
       "      <td>0.979180</td>\n",
       "      <td>0.985854</td>\n",
       "      <td>1.009629</td>\n",
       "      <td>0.978224</td>\n",
       "      <td>1.010318</td>\n",
       "      <td>1.026890</td>\n",
       "      <td>1.005370</td>\n",
       "      <td>0.989141</td>\n",
       "      <td>...</td>\n",
       "      <td>1.027798</td>\n",
       "      <td>0.971852</td>\n",
       "      <td>0.991314</td>\n",
       "      <td>1.018354</td>\n",
       "      <td>0.998569</td>\n",
       "      <td>1.007556</td>\n",
       "      <td>0.984540</td>\n",
       "      <td>1.023315</td>\n",
       "      <td>1.001861</td>\n",
       "      <td>1.030518</td>\n",
       "    </tr>\n",
       "    <tr>\n",
       "      <th>3</th>\n",
       "      <td>0.985799</td>\n",
       "      <td>0.989769</td>\n",
       "      <td>0.984738</td>\n",
       "      <td>0.974818</td>\n",
       "      <td>1.014055</td>\n",
       "      <td>0.983386</td>\n",
       "      <td>1.023839</td>\n",
       "      <td>1.025511</td>\n",
       "      <td>0.992657</td>\n",
       "      <td>0.976028</td>\n",
       "      <td>...</td>\n",
       "      <td>1.039749</td>\n",
       "      <td>0.975226</td>\n",
       "      <td>0.967252</td>\n",
       "      <td>1.005845</td>\n",
       "      <td>0.988340</td>\n",
       "      <td>0.998429</td>\n",
       "      <td>0.971289</td>\n",
       "      <td>1.042544</td>\n",
       "      <td>0.994742</td>\n",
       "      <td>1.038696</td>\n",
       "    </tr>\n",
       "    <tr>\n",
       "      <th>4</th>\n",
       "      <td>1.005801</td>\n",
       "      <td>0.992615</td>\n",
       "      <td>0.983756</td>\n",
       "      <td>0.989255</td>\n",
       "      <td>1.031304</td>\n",
       "      <td>0.976324</td>\n",
       "      <td>1.041596</td>\n",
       "      <td>1.003551</td>\n",
       "      <td>1.000639</td>\n",
       "      <td>0.974391</td>\n",
       "      <td>...</td>\n",
       "      <td>1.026430</td>\n",
       "      <td>0.989204</td>\n",
       "      <td>0.995228</td>\n",
       "      <td>1.015617</td>\n",
       "      <td>1.004681</td>\n",
       "      <td>0.973629</td>\n",
       "      <td>0.961140</td>\n",
       "      <td>1.029495</td>\n",
       "      <td>1.010724</td>\n",
       "      <td>1.048272</td>\n",
       "    </tr>\n",
       "    <tr>\n",
       "      <th>...</th>\n",
       "      <td>...</td>\n",
       "      <td>...</td>\n",
       "      <td>...</td>\n",
       "      <td>...</td>\n",
       "      <td>...</td>\n",
       "      <td>...</td>\n",
       "      <td>...</td>\n",
       "      <td>...</td>\n",
       "      <td>...</td>\n",
       "      <td>...</td>\n",
       "      <td>...</td>\n",
       "      <td>...</td>\n",
       "      <td>...</td>\n",
       "      <td>...</td>\n",
       "      <td>...</td>\n",
       "      <td>...</td>\n",
       "      <td>...</td>\n",
       "      <td>...</td>\n",
       "      <td>...</td>\n",
       "      <td>...</td>\n",
       "      <td>...</td>\n",
       "    </tr>\n",
       "    <tr>\n",
       "      <th>2516</th>\n",
       "      <td>6.388561</td>\n",
       "      <td>8.812481</td>\n",
       "      <td>3.831384</td>\n",
       "      <td>1.440573</td>\n",
       "      <td>5.688197</td>\n",
       "      <td>1.842711</td>\n",
       "      <td>3.103100</td>\n",
       "      <td>2.842938</td>\n",
       "      <td>1.659003</td>\n",
       "      <td>3.312844</td>\n",
       "      <td>...</td>\n",
       "      <td>3.579903</td>\n",
       "      <td>3.852711</td>\n",
       "      <td>5.835584</td>\n",
       "      <td>3.086850</td>\n",
       "      <td>12.269304</td>\n",
       "      <td>4.348332</td>\n",
       "      <td>3.800723</td>\n",
       "      <td>6.466308</td>\n",
       "      <td>2.537557</td>\n",
       "      <td>2.391245</td>\n",
       "    </tr>\n",
       "    <tr>\n",
       "      <th>2517</th>\n",
       "      <td>6.444715</td>\n",
       "      <td>8.940929</td>\n",
       "      <td>3.822581</td>\n",
       "      <td>1.443865</td>\n",
       "      <td>5.709306</td>\n",
       "      <td>1.810645</td>\n",
       "      <td>3.108574</td>\n",
       "      <td>2.793952</td>\n",
       "      <td>1.660112</td>\n",
       "      <td>3.290477</td>\n",
       "      <td>...</td>\n",
       "      <td>3.596951</td>\n",
       "      <td>3.933382</td>\n",
       "      <td>5.796253</td>\n",
       "      <td>3.038322</td>\n",
       "      <td>12.412557</td>\n",
       "      <td>4.371849</td>\n",
       "      <td>3.802621</td>\n",
       "      <td>6.394488</td>\n",
       "      <td>2.471613</td>\n",
       "      <td>2.406745</td>\n",
       "    </tr>\n",
       "    <tr>\n",
       "      <th>2518</th>\n",
       "      <td>6.451267</td>\n",
       "      <td>9.131698</td>\n",
       "      <td>3.885651</td>\n",
       "      <td>1.475849</td>\n",
       "      <td>5.713535</td>\n",
       "      <td>1.828342</td>\n",
       "      <td>3.119773</td>\n",
       "      <td>2.834065</td>\n",
       "      <td>1.680726</td>\n",
       "      <td>3.305930</td>\n",
       "      <td>...</td>\n",
       "      <td>3.627346</td>\n",
       "      <td>3.919765</td>\n",
       "      <td>5.911689</td>\n",
       "      <td>3.046118</td>\n",
       "      <td>12.788342</td>\n",
       "      <td>4.388909</td>\n",
       "      <td>3.720833</td>\n",
       "      <td>6.413431</td>\n",
       "      <td>2.472858</td>\n",
       "      <td>2.403795</td>\n",
       "    </tr>\n",
       "    <tr>\n",
       "      <th>2519</th>\n",
       "      <td>6.397885</td>\n",
       "      <td>9.103095</td>\n",
       "      <td>3.922036</td>\n",
       "      <td>1.477793</td>\n",
       "      <td>5.762055</td>\n",
       "      <td>1.836770</td>\n",
       "      <td>3.099367</td>\n",
       "      <td>2.841780</td>\n",
       "      <td>1.672913</td>\n",
       "      <td>3.264524</td>\n",
       "      <td>...</td>\n",
       "      <td>3.643245</td>\n",
       "      <td>3.996974</td>\n",
       "      <td>6.067602</td>\n",
       "      <td>3.135461</td>\n",
       "      <td>13.309068</td>\n",
       "      <td>4.466263</td>\n",
       "      <td>3.715595</td>\n",
       "      <td>6.473155</td>\n",
       "      <td>2.488909</td>\n",
       "      <td>2.409890</td>\n",
       "    </tr>\n",
       "    <tr>\n",
       "      <th>2520</th>\n",
       "      <td>6.311422</td>\n",
       "      <td>9.233088</td>\n",
       "      <td>3.950237</td>\n",
       "      <td>1.488420</td>\n",
       "      <td>5.743636</td>\n",
       "      <td>1.851499</td>\n",
       "      <td>3.163217</td>\n",
       "      <td>2.775748</td>\n",
       "      <td>1.678215</td>\n",
       "      <td>3.249576</td>\n",
       "      <td>...</td>\n",
       "      <td>3.639495</td>\n",
       "      <td>4.065306</td>\n",
       "      <td>6.054972</td>\n",
       "      <td>3.104692</td>\n",
       "      <td>13.263845</td>\n",
       "      <td>4.457760</td>\n",
       "      <td>3.723553</td>\n",
       "      <td>6.408413</td>\n",
       "      <td>2.485033</td>\n",
       "      <td>2.406238</td>\n",
       "    </tr>\n",
       "  </tbody>\n",
       "</table>\n",
       "<p>2521 rows × 500 columns</p>\n",
       "</div>"
      ],
      "text/plain": [
       "           0         1         2         3         4         5         6    \\\n",
       "0     1.000000  1.000000  1.000000  1.000000  1.000000  1.000000  1.000000   \n",
       "1     0.986707  0.989045  0.982200  0.969820  1.012812  0.995828  1.002789   \n",
       "2     0.992111  1.009920  0.979180  0.985854  1.009629  0.978224  1.010318   \n",
       "3     0.985799  0.989769  0.984738  0.974818  1.014055  0.983386  1.023839   \n",
       "4     1.005801  0.992615  0.983756  0.989255  1.031304  0.976324  1.041596   \n",
       "...        ...       ...       ...       ...       ...       ...       ...   \n",
       "2516  6.388561  8.812481  3.831384  1.440573  5.688197  1.842711  3.103100   \n",
       "2517  6.444715  8.940929  3.822581  1.443865  5.709306  1.810645  3.108574   \n",
       "2518  6.451267  9.131698  3.885651  1.475849  5.713535  1.828342  3.119773   \n",
       "2519  6.397885  9.103095  3.922036  1.477793  5.762055  1.836770  3.099367   \n",
       "2520  6.311422  9.233088  3.950237  1.488420  5.743636  1.851499  3.163217   \n",
       "\n",
       "           7         8         9    ...       490       491       492  \\\n",
       "0     1.000000  1.000000  1.000000  ...  1.000000  1.000000  1.000000   \n",
       "1     1.030189  1.012835  1.004791  ...  1.005661  0.987937  0.989907   \n",
       "2     1.026890  1.005370  0.989141  ...  1.027798  0.971852  0.991314   \n",
       "3     1.025511  0.992657  0.976028  ...  1.039749  0.975226  0.967252   \n",
       "4     1.003551  1.000639  0.974391  ...  1.026430  0.989204  0.995228   \n",
       "...        ...       ...       ...  ...       ...       ...       ...   \n",
       "2516  2.842938  1.659003  3.312844  ...  3.579903  3.852711  5.835584   \n",
       "2517  2.793952  1.660112  3.290477  ...  3.596951  3.933382  5.796253   \n",
       "2518  2.834065  1.680726  3.305930  ...  3.627346  3.919765  5.911689   \n",
       "2519  2.841780  1.672913  3.264524  ...  3.643245  3.996974  6.067602   \n",
       "2520  2.775748  1.678215  3.249576  ...  3.639495  4.065306  6.054972   \n",
       "\n",
       "           493        494       495       496       497       498       499  \n",
       "0     1.000000   1.000000  1.000000  1.000000  1.000000  1.000000  1.000000  \n",
       "1     1.000351   0.989499  0.988981  0.982288  1.019557  1.004281  1.017932  \n",
       "2     1.018354   0.998569  1.007556  0.984540  1.023315  1.001861  1.030518  \n",
       "3     1.005845   0.988340  0.998429  0.971289  1.042544  0.994742  1.038696  \n",
       "4     1.015617   1.004681  0.973629  0.961140  1.029495  1.010724  1.048272  \n",
       "...        ...        ...       ...       ...       ...       ...       ...  \n",
       "2516  3.086850  12.269304  4.348332  3.800723  6.466308  2.537557  2.391245  \n",
       "2517  3.038322  12.412557  4.371849  3.802621  6.394488  2.471613  2.406745  \n",
       "2518  3.046118  12.788342  4.388909  3.720833  6.413431  2.472858  2.403795  \n",
       "2519  3.135461  13.309068  4.466263  3.715595  6.473155  2.488909  2.409890  \n",
       "2520  3.104692  13.263845  4.457760  3.723553  6.408413  2.485033  2.406238  \n",
       "\n",
       "[2521 rows x 500 columns]"
      ]
     },
     "execution_count": 41,
     "metadata": {},
     "output_type": "execute_result"
    }
   ],
   "source": [
    "# Run the Monte Carlo simulation to forecast 10 years cumulative returns\r\n",
    "mc_ten_year.calc_cumulative_return()"
   ]
  },
  {
   "cell_type": "code",
   "execution_count": null,
   "metadata": {},
   "outputs": [
    {
     "data": {
      "image/png": "[encoded data removed]",
      "text/plain": [
       "<Figure size 432x288 with 1 Axes>"
      ]
     },
     "metadata": {
      "needs_background": "light"
     },
     "output_type": "display_data"
    }
   ],
   "source": [
    "# Visualize the 10-year Monte Carlo simulation by creating an\r\n",
    "# overlay line plot\r\n",
    "mc_ten_year_line_plot = mc_ten_year.plot_simulation()\r\n"
   ]
  },
  {
   "cell_type": "code",
   "execution_count": null,
   "metadata": {},
   "outputs": [
    {
     "data": {
      "image/png": "[encoded data removed]",
      "text/plain": [
       "<Figure size 432x288 with 1 Axes>"
      ]
     },
     "metadata": {
      "needs_background": "light"
     },
     "output_type": "display_data"
    }
   ],
   "source": [
    "# Visualize the probability distribution of the 10-year Monte Carlo simulation \r\n",
    "# by plotting a histogram\r\n",
    "mc_ten_year_dist_plot = mc_ten_year.plot_distribution()\r\n"
   ]
  },
  {
   "cell_type": "code",
   "execution_count": null,
   "metadata": {},
   "outputs": [
    {
     "name": "stdout",
     "output_type": "stream",
     "text": [
      "count           500.000000\n",
      "mean              4.452398\n",
      "std               2.817225\n",
      "min               0.599222\n",
      "25%               2.494072\n",
      "50%               3.800732\n",
      "75%               5.572288\n",
      "max              20.983133\n",
      "95% CI Lower      1.173679\n",
      "95% CI Upper     11.292116\n",
      "Name: 2520, dtype: float64\n"
     ]
    }
   ],
   "source": [
    "# Generate summary statistics from the 10-year Monte Carlo simulation results\r\n",
    "# Save the results as a variable\r\n",
    "mc_ten_year_table = mc_ten_year.summarize_cumulative_return()\r\n",
    "\r\n",
    "\r\n",
    "# Review the 10-year Monte Carlo summary statistics\r\n",
    "print(mc_ten_year_table)"
   ]
  },
  {
   "cell_type": "markdown",
   "metadata": {},
   "source": [
    "### Answer the following questions:"
   ]
  },
  {
   "cell_type": "markdown",
   "metadata": {},
   "source": [
    "#### Question: Using the current value of only the stock and bond portion of the member's portfolio and the summary statistics that you generated from the new Monte Carlo simulation, what are the lower and upper bounds for the expected value of the portfolio (with the new weights) with a 95% confidence interval?"
   ]
  },
  {
   "cell_type": "code",
   "execution_count": null,
   "metadata": {},
   "outputs": [
    {
     "name": "stdout",
     "output_type": "stream",
     "text": [
      "the current value of the member's stock and bond portion of their portfolio is $71,631.00\n"
     ]
    }
   ],
   "source": [
    "# Print the current balance of the stock and bond portion of the members portfolio\r\n",
    "print(f\"the current value of the member's stock and bond portion of their portfolio is ${total_stocks_bonds:,.2f}\")\r\n"
   ]
  },
  {
   "cell_type": "code",
   "execution_count": null,
   "metadata": {},
   "outputs": [
    {
     "name": "stdout",
     "output_type": "stream",
     "text": [
      "There is a 95% chance that a portfolio valued at $71,631.00,with a weight distribution of 80% SPY and 20% AGG,\n",
      "over the next 10 years will end within in the range of $84,071.82 and $808,865.59.\n"
     ]
    }
   ],
   "source": [
    "# Use the lower and upper `95%` confidence intervals to calculate the range of the possible outcomes for the current stock/bond portfolio\r\n",
    "ci_lower_ten_cumulative_return = round(mc_ten_year_table[8]*total_stocks_bonds,2)\r\n",
    "ci_upper_ten_cumulative_return = round(mc_ten_year_table[9]*total_stocks_bonds,2)\r\n",
    "\r\n",
    "# Print the result of your calculations\r\n",
    "print(f\"There is a 95% chance that a portfolio valued at ${total_stocks_bonds:,.2f},with a weight distribution of 80% SPY and 20% AGG,\\n\"\r\n",
    "      f\"over the next 10 years will end within in the range of\"\r\n",
    "      f\" ${ci_lower_ten_cumulative_return:,.2f} and ${ci_upper_ten_cumulative_return:,.2f}.\")\r\n"
   ]
  },
  {
   "cell_type": "markdown",
   "metadata": {},
   "source": [
    "#### Question: Will weighting the portfolio more heavily to stocks allow the credit union members to retire after only 10 years?"
   ]
  },
  {
   "cell_type": "markdown",
   "metadata": {},
   "source": [
    "**Answer**\r\n",
    "\r\n",
    "While dependent upon the retirement goals of the particular member of the credit union, there is a serious amount of risk being taken if the member were to commit to the 80/20 of SPY vs AGG to their current portfolio based upon the results of the Monte Carlo simulation run with the member's information.\r\n",
    "\r\n",
    "The current recommendation would NOT include this split for a 10-year retirement forecast at this time."
   ]
  }
 ],
 "metadata": {
  "interpreter": {
   "hash": "25dfd597ce48e143150056cb4d28be9c774f612d3357c6589f9de7359d9470f4"
  },
  "kernelspec": {
   "display_name": "Python 3",
   "language": "python",
   "name": "python3"
  },
  "language_info": {
   "codemirror_mode": {
    "name": "ipython",
    "version": 3
   },
   "file_extension": ".py",
   "mimetype": "text/x-python",
   "name": "python",
   "nbconvert_exporter": "python",
   "pygments_lexer": "ipython3",
   "version": "3.7.10"
  }
 },
 "nbformat": 4,
 "nbformat_minor": 4
}
