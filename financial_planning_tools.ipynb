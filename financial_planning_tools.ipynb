{
 "cells": [
  {
   "cell_type": "markdown",
   "source": [
    "# Financial Planning with APIs and Simulations\n",
    "\n",
    "In this Challenge, you’ll create two financial analysis tools by using a single Jupyter notebook:\n",
    "\n",
    "Part 1: A financial planner for emergencies. The members will be able to use this tool to visualize their current savings. The members can then determine if they have enough reserves for an emergency fund.\n",
    "\n",
    "Part 2: A financial planner for retirement. This tool will forecast the performance of their retirement portfolio in 30 years. To do this, the tool will make an Alpaca API call via the Alpaca SDK to get historical price data for use in Monte Carlo simulations.\n",
    "\n",
    "You’ll use the information from the Monte Carlo simulation to answer questions about the portfolio in your Jupyter notebook.\n",
    "\n"
   ],
   "metadata": {}
  },
  {
   "cell_type": "code",
   "execution_count": 1,
   "source": [
    "# Import the required libraries and dependencies\r\n",
    "import os\r\n",
    "import requests\r\n",
    "import json\r\n",
    "import pandas as pd\r\n",
    "from dotenv import load_dotenv\r\n",
    "import alpaca_trade_api as tradeapi\r\n",
    "from MCForecastTools import MCSimulation\r\n",
    "\r\n",
    "%matplotlib inline"
   ],
   "outputs": [],
   "metadata": {}
  },
  {
   "cell_type": "code",
   "execution_count": 2,
   "source": [
    "# Load the environment variables from the .env file\r\n",
    "#by calling the load_dotenv function\r\n",
    "load_dotenv()"
   ],
   "outputs": [
    {
     "output_type": "stream",
     "name": "stderr",
     "text": [
      "Python-dotenv could not parse statement starting at line 1\n"
     ]
    },
    {
     "output_type": "execute_result",
     "data": {
      "text/plain": [
       "True"
      ]
     },
     "metadata": {},
     "execution_count": 2
    }
   ],
   "metadata": {}
  },
  {
   "cell_type": "markdown",
   "source": [
    "## Part 1: Create a Financial Planner for Emergencies"
   ],
   "metadata": {}
  },
  {
   "cell_type": "markdown",
   "source": [
    "### Evaluate the Cryptocurrency Wallet by Using the Requests Library\n",
    "\n",
    "In this section, you’ll determine the current value of a member’s cryptocurrency wallet. You’ll collect the current prices for the Bitcoin and Ethereum cryptocurrencies by using the Python Requests library. For the prototype, you’ll assume that the member holds the 1.2 Bitcoins (BTC) and 5.3 Ethereum coins (ETH). To do all this, complete the following steps:\n",
    "\n",
    "1. Create a variable named `monthly_income`, and set its value to `12000`.\n",
    "\n",
    "2. Use the Requests library to get the current price (in US dollars) of Bitcoin (BTC) and Ethereum (ETH) by using the API endpoints that the starter code supplies.\n",
    "\n",
    "3. Navigate the JSON response object to access the current price of each coin, and store each in a variable.\n",
    "\n",
    "    > **Hint** Note the specific identifier for each cryptocurrency in the API JSON response. The Bitcoin identifier is `1`, and the Ethereum identifier is `1027`.\n",
    "\n",
    "4. Calculate the value, in US dollars, of the current amount of each cryptocurrency and of the entire cryptocurrency wallet.\n",
    "\n"
   ],
   "metadata": {}
  },
  {
   "cell_type": "code",
   "execution_count": 3,
   "source": [
    "# The current number of coins for each cryptocurrency asset held in the portfolio.\r\n",
    "btc_coins = 1.2\r\n",
    "eth_coins = 5.3"
   ],
   "outputs": [],
   "metadata": {}
  },
  {
   "cell_type": "markdown",
   "source": [
    "#### Step 1: Create a variable named `monthly_income`, and set its value to `12000`."
   ],
   "metadata": {}
  },
  {
   "cell_type": "code",
   "execution_count": 4,
   "source": [
    "# The monthly amount for the member's household income\r\n",
    "monthly_income = 12000"
   ],
   "outputs": [],
   "metadata": {}
  },
  {
   "cell_type": "markdown",
   "source": [
    "#### Review the endpoint URLs for the API calls to Free Crypto API in order to get the current pricing information for both BTC and ETH."
   ],
   "metadata": {}
  },
  {
   "cell_type": "code",
   "execution_count": 5,
   "source": [
    "# The Free Crypto API Call endpoint URLs for the held cryptocurrency assets\r\n",
    "btc_url = \"https://api.alternative.me/v2/ticker/Bitcoin/?convert=USD\"\r\n",
    "eth_url = \"https://api.alternative.me/v2/ticker/Ethereum/?convert=USD\""
   ],
   "outputs": [],
   "metadata": {}
  },
  {
   "cell_type": "markdown",
   "source": [
    "#### Step 2. Use the Requests library to get the current price (in US dollars) of Bitcoin (BTC) and Ethereum (ETH) by using the API endpoints that the starter code supplied."
   ],
   "metadata": {}
  },
  {
   "cell_type": "code",
   "execution_count": 6,
   "source": [
    "# Using the Python requests library, make an API call to access the current price of BTC\r\n",
    "btc_response = requests.get(btc_url).json()\r\n",
    "\r\n",
    "# Use the json.dumps function to review the response data from the API call\r\n",
    "# Use the indent and sort_keys parameters to make the response object readable\r\n",
    "print(json.dumps(btc_response, indent=2, sort_keys=True))\r\n"
   ],
   "outputs": [
    {
     "output_type": "stream",
     "name": "stdout",
     "text": [
      "{\n",
      "  \"data\": {\n",
      "    \"1\": {\n",
      "      \"circulating_supply\": 18766812,\n",
      "      \"id\": 1,\n",
      "      \"last_updated\": 1627268079,\n",
      "      \"max_supply\": 21000000,\n",
      "      \"name\": \"Bitcoin\",\n",
      "      \"quotes\": {\n",
      "        \"USD\": {\n",
      "          \"market_cap\": 723402023655,\n",
      "          \"percent_change_1h\": -0.0101116769975877,\n",
      "          \"percent_change_24h\": 12.5017210248258,\n",
      "          \"percent_change_7d\": 20.6492537948055,\n",
      "          \"percentage_change_1h\": -0.0101116769975877,\n",
      "          \"percentage_change_24h\": 12.5017210248258,\n",
      "          \"percentage_change_7d\": 20.6492537948055,\n",
      "          \"price\": 38511.0,\n",
      "          \"volume_24h\": 33692816559\n",
      "        }\n",
      "      },\n",
      "      \"rank\": 1,\n",
      "      \"symbol\": \"BTC\",\n",
      "      \"total_supply\": 18766812,\n",
      "      \"website_slug\": \"bitcoin\"\n",
      "    }\n",
      "  },\n",
      "  \"metadata\": {\n",
      "    \"error\": null,\n",
      "    \"num_cryptocurrencies\": 3105,\n",
      "    \"timestamp\": 1627268079\n",
      "  }\n",
      "}\n"
     ]
    }
   ],
   "metadata": {}
  },
  {
   "cell_type": "code",
   "execution_count": 7,
   "source": [
    "# Using the Python requests library, make an API call to access the current price ETH\r\n",
    "eth_response = requests.get(eth_url).json()\r\n",
    "\r\n",
    "# Use the json.dumps function to review the response data from the API call\r\n",
    "# Use the indent and sort_keys parameters to make the response object readable\r\n",
    "print(json.dumps(eth_response, indent=2, sort_keys=True))\r\n"
   ],
   "outputs": [
    {
     "output_type": "stream",
     "name": "stdout",
     "text": [
      "{\n",
      "  \"data\": {\n",
      "    \"1027\": {\n",
      "      \"circulating_supply\": 116843453,\n",
      "      \"id\": 1027,\n",
      "      \"last_updated\": 1627268079,\n",
      "      \"max_supply\": 0,\n",
      "      \"name\": \"Ethereum\",\n",
      "      \"quotes\": {\n",
      "        \"USD\": {\n",
      "          \"market_cap\": 271575815263,\n",
      "          \"percent_change_1h\": 0.496075688148742,\n",
      "          \"percent_change_24h\": 7.5445731776203,\n",
      "          \"percent_change_7d\": 21.870560773527,\n",
      "          \"percentage_change_1h\": 0.496075688148742,\n",
      "          \"percentage_change_24h\": 7.5445731776203,\n",
      "          \"percentage_change_7d\": 21.870560773527,\n",
      "          \"price\": 2322.52,\n",
      "          \"volume_24h\": 22635102294\n",
      "        }\n",
      "      },\n",
      "      \"rank\": 2,\n",
      "      \"symbol\": \"ETH\",\n",
      "      \"total_supply\": 116843453,\n",
      "      \"website_slug\": \"ethereum\"\n",
      "    }\n",
      "  },\n",
      "  \"metadata\": {\n",
      "    \"error\": null,\n",
      "    \"num_cryptocurrencies\": 3105,\n",
      "    \"timestamp\": 1627268079\n",
      "  }\n",
      "}\n"
     ]
    }
   ],
   "metadata": {}
  },
  {
   "cell_type": "markdown",
   "source": [
    "#### Step 3: Navigate the JSON response object to access the current price of each coin, and store each in a variable."
   ],
   "metadata": {}
  },
  {
   "cell_type": "code",
   "execution_count": 8,
   "source": [
    "# Navigate the BTC response object to access the current price of BTC\r\n",
    "btc_price = btc_response['data']['1']['quotes']['USD']['price']\r\n",
    "\r\n",
    "# Print the current price of BTC\r\n",
    "print(f\"the current price of Bitcoin is ${btc_price:,.2f}\")\r\n"
   ],
   "outputs": [
    {
     "output_type": "stream",
     "name": "stdout",
     "text": [
      "the current price of Bitcoin is $38,511.00\n"
     ]
    }
   ],
   "metadata": {}
  },
  {
   "cell_type": "code",
   "execution_count": 9,
   "source": [
    "# Navigate the BTC response object to access the current price of ETH\r\n",
    "eth_price = eth_response['data']['1027']['quotes']['USD']['price']\r\n",
    "\r\n",
    "# Print the current price of ETH\r\n",
    "print(f\"the current price of Ethereum is ${eth_price:,.2f}\")\r\n"
   ],
   "outputs": [
    {
     "output_type": "stream",
     "name": "stdout",
     "text": [
      "the current price of Ethereum is $2,322.52\n"
     ]
    }
   ],
   "metadata": {}
  },
  {
   "cell_type": "markdown",
   "source": [
    "### Step 4: Calculate the value, in US dollars, of the current amount of each cryptocurrency and of the entire cryptocurrency wallet."
   ],
   "metadata": {}
  },
  {
   "cell_type": "code",
   "execution_count": 10,
   "source": [
    "# Compute the current value of the BTC holding \r\n",
    "btc_value = btc_coins * btc_price\r\n",
    "\r\n",
    "# Print current value of your holding in BTC\r\n",
    "print(f\"current value of the member's holding in BTC is ${btc_value:,.2f}\")\r\n"
   ],
   "outputs": [
    {
     "output_type": "stream",
     "name": "stdout",
     "text": [
      "current value of the member's holding in BTC is $46,213.20\n"
     ]
    }
   ],
   "metadata": {}
  },
  {
   "cell_type": "code",
   "execution_count": 11,
   "source": [
    "# Compute the current value of the ETH holding \r\n",
    "eth_value = eth_coins * eth_price\r\n",
    "\r\n",
    "# Print current value of your holding in ETH\r\n",
    "print(f\"current value of the member's holding in ETH is ${eth_value:,.2f}\")\r\n"
   ],
   "outputs": [
    {
     "output_type": "stream",
     "name": "stdout",
     "text": [
      "current value of the member's holding in ETH is $12,309.36\n"
     ]
    }
   ],
   "metadata": {}
  },
  {
   "cell_type": "code",
   "execution_count": 12,
   "source": [
    "# Compute the total value of the cryptocurrency wallet\r\n",
    "# Add the value of the BTC holding to the value of the ETH holding\r\n",
    "total_crypto_wallet = btc_value + eth_value\r\n",
    "\r\n",
    "# Print current cryptocurrency wallet balance\r\n",
    "print(f\"total value of the member's cryptocurrency wallet is ${total_crypto_wallet:,.2f}\")\r\n"
   ],
   "outputs": [
    {
     "output_type": "stream",
     "name": "stdout",
     "text": [
      "total value of the member's cryptocurrency wallet is $58,522.56\n"
     ]
    }
   ],
   "metadata": {}
  },
  {
   "cell_type": "markdown",
   "source": [
    "### Evaluate the Stock and Bond Holdings by Using the Alpaca SDK\n",
    "\n",
    "In this section, you’ll determine the current value of a member’s stock and bond holdings. You’ll make an API call to Alpaca via the Alpaca SDK to get the current closing prices of the SPDR S&P 500 ETF Trust (ticker: SPY) and of the iShares Core US Aggregate Bond ETF (ticker: AGG). For the prototype, assume that the member holds 110 shares of SPY, which represents the stock portion of their portfolio, and 200 shares of AGG, which represents the bond portion. To do all this, complete the following steps:\n",
    "\n",
    "1. In the `Starter_Code` folder, create an environment file (`.env`) to store the values of your Alpaca API key and Alpaca secret key.\n",
    "\n",
    "2. Set the variables for the Alpaca API and secret keys. Using the Alpaca SDK, create the Alpaca `tradeapi.REST` object. In this object, include the parameters for the Alpaca API key, the secret key, and the version number.\n",
    "\n",
    "3. Set the following parameters for the Alpaca API call:\n",
    "\n",
    "    - `tickers`: Use the tickers for the member’s stock and bond holdings.\n",
    "\n",
    "    - `timeframe`: Use a time frame of one day.\n",
    "\n",
    "    - `start_date` and `end_date`: Use the same date for these parameters, and format them with the date of the previous weekday (or `2020-08-07`). This is because you want the one closing price for the most-recent trading day.\n",
    "\n",
    "4. Get the current closing prices for `SPY` and `AGG` by using the Alpaca `get_barset` function. Format the response as a Pandas DataFrame by including the `df` property at the end of the `get_barset` function.\n",
    "\n",
    "5. Navigating the Alpaca response DataFrame, select the `SPY` and `AGG` closing prices, and store them as variables.\n",
    "\n",
    "6. Calculate the value, in US dollars, of the current amount of shares in each of the stock and bond portions of the portfolio, and print the results.\n"
   ],
   "metadata": {}
  },
  {
   "cell_type": "markdown",
   "source": [
    "#### Review the total number of shares held in both (SPY) and (AGG)."
   ],
   "metadata": {}
  },
  {
   "cell_type": "code",
   "execution_count": 13,
   "source": [
    "# Current amount of shares held in both the stock (SPY) and bond (AGG) portion of the portfolio.\r\n",
    "spy_shares = 110\r\n",
    "agg_shares = 200\r\n"
   ],
   "outputs": [],
   "metadata": {}
  },
  {
   "cell_type": "markdown",
   "source": [
    "#### Step 1: In the `Starter_Code` folder, create an environment file (`.env`) to store the values of your Alpaca API key and Alpaca secret key."
   ],
   "metadata": {}
  },
  {
   "cell_type": "code",
   "execution_count": 14,
   "source": [
    "# Set the variables for the Alpaca API and secret keys\r\n",
    "alpaca_api_key = os.getenv('ALPACA_API_KEY')\r\n",
    "alpaca_secret_key = os.getenv('ALPACA_SECRET_KEY')\r\n",
    "\r\n",
    "# verify type to confirm import\r\n",
    "display(type(alpaca_api_key))\r\n",
    "display(type(alpaca_secret_key))"
   ],
   "outputs": [
    {
     "output_type": "display_data",
     "data": {
      "text/plain": [
       "str"
      ]
     },
     "metadata": {}
    },
    {
     "output_type": "display_data",
     "data": {
      "text/plain": [
       "str"
      ]
     },
     "metadata": {}
    }
   ],
   "metadata": {}
  },
  {
   "cell_type": "markdown",
   "source": [
    "#### Step 2: Set the variables for the Alpaca API and secret keys. Using the Alpaca SDK, create the Alpaca `tradeapi.REST` object. In this object, include the parameters for the Alpaca API key, the secret key, and the version number."
   ],
   "metadata": {}
  },
  {
   "cell_type": "code",
   "execution_count": 15,
   "source": [
    "# Create the Alpaca tradeapi.REST object\r\n",
    "alpaca = tradeapi.REST(\r\n",
    "    alpaca_api_key,\r\n",
    "    alpaca_secret_key,\r\n",
    "    api_version='v2'\r\n",
    ")"
   ],
   "outputs": [],
   "metadata": {}
  },
  {
   "cell_type": "markdown",
   "source": [
    "#### Step 3: Set the following parameters for the Alpaca API call:\n",
    "\n",
    "- `tickers`: Use the tickers for the member’s stock and bond holdings.\n",
    "\n",
    "- `timeframe`: Use a time frame of one day.\n",
    "\n",
    "- `start_date` and `end_date`: Use the same date for these parameters, and format them with the date of the previous weekday (or `2020-08-07`). This is because you want the one closing price for the most-recent trading day.\n"
   ],
   "metadata": {}
  },
  {
   "cell_type": "code",
   "execution_count": 16,
   "source": [
    "# Set the tickers for both the bond and stock portion of the portfolio\r\n",
    "tickers = ['SPY','AGG']\r\n",
    "\r\n",
    "# Set timeframe to 1D \r\n",
    "timeframe = '1D'\r\n",
    "\r\n",
    "# Format current date as ISO format\r\n",
    "# Set both the start and end date at the date of your prior weekday \r\n",
    "# This will give you the closing price of the previous trading day\r\n",
    "# Alternatively you can use a start and end date of 2020-08-07\r\n",
    "prior_weekday = '2021-07-23'\r\n",
    "start_date = pd.Timestamp(prior_weekday, tz='America/New_York').isoformat()\r\n",
    "end_date = pd.Timestamp(prior_weekday, tz='America/New_York').isoformat()\r\n",
    "\r\n",
    "# typically, would also establish the number of rows to the max of 1,000,\r\n",
    "# but only one day is needed for this api call"
   ],
   "outputs": [],
   "metadata": {}
  },
  {
   "cell_type": "markdown",
   "source": [
    "#### Step 4: Get the current closing prices for `SPY` and `AGG` by using the Alpaca `get_barset` function. Format the response as a Pandas DataFrame by including the `df` property at the end of the `get_barset` function."
   ],
   "metadata": {}
  },
  {
   "cell_type": "code",
   "execution_count": 17,
   "source": [
    "# Use the Alpaca get_barset function to get current closing prices the portfolio\r\n",
    "# Be sure to set the `df` property after the function to format the response object as a DataFrame\r\n",
    "prices_df = alpaca.get_barset(\r\n",
    "    tickers,\r\n",
    "    timeframe,\r\n",
    "    start=start_date,\r\n",
    "    end=end_date,\r\n",
    ").df\r\n"
   ],
   "outputs": [],
   "metadata": {}
  },
  {
   "cell_type": "code",
   "execution_count": 18,
   "source": [
    "# Review the first 5 rows of the Alpaca DataFrame\r\n",
    "# ... no idea why they're asking for the first 5 rows when there's only a single datapoint...\r\n",
    "prices_df.head()"
   ],
   "outputs": [
    {
     "output_type": "execute_result",
     "data": {
      "text/plain": [
       "                              AGG                                      SPY  \\\n",
       "                             open    high     low   close   volume    open   \n",
       "time                                                                         \n",
       "2021-07-23 00:00:00-04:00  116.03  116.22  116.03  116.21  4137100  437.53   \n",
       "\n",
       "                                                           \n",
       "                            high     low  close    volume  \n",
       "time                                                       \n",
       "2021-07-23 00:00:00-04:00  440.3  436.79  439.9  53294703  "
      ],
      "text/html": [
       "<div>\n",
       "<style scoped>\n",
       "    .dataframe tbody tr th:only-of-type {\n",
       "        vertical-align: middle;\n",
       "    }\n",
       "\n",
       "    .dataframe tbody tr th {\n",
       "        vertical-align: top;\n",
       "    }\n",
       "\n",
       "    .dataframe thead tr th {\n",
       "        text-align: left;\n",
       "    }\n",
       "\n",
       "    .dataframe thead tr:last-of-type th {\n",
       "        text-align: right;\n",
       "    }\n",
       "</style>\n",
       "<table border=\"1\" class=\"dataframe\">\n",
       "  <thead>\n",
       "    <tr>\n",
       "      <th></th>\n",
       "      <th colspan=\"5\" halign=\"left\">AGG</th>\n",
       "      <th colspan=\"5\" halign=\"left\">SPY</th>\n",
       "    </tr>\n",
       "    <tr>\n",
       "      <th></th>\n",
       "      <th>open</th>\n",
       "      <th>high</th>\n",
       "      <th>low</th>\n",
       "      <th>close</th>\n",
       "      <th>volume</th>\n",
       "      <th>open</th>\n",
       "      <th>high</th>\n",
       "      <th>low</th>\n",
       "      <th>close</th>\n",
       "      <th>volume</th>\n",
       "    </tr>\n",
       "    <tr>\n",
       "      <th>time</th>\n",
       "      <th></th>\n",
       "      <th></th>\n",
       "      <th></th>\n",
       "      <th></th>\n",
       "      <th></th>\n",
       "      <th></th>\n",
       "      <th></th>\n",
       "      <th></th>\n",
       "      <th></th>\n",
       "      <th></th>\n",
       "    </tr>\n",
       "  </thead>\n",
       "  <tbody>\n",
       "    <tr>\n",
       "      <th>2021-07-23 00:00:00-04:00</th>\n",
       "      <td>116.03</td>\n",
       "      <td>116.22</td>\n",
       "      <td>116.03</td>\n",
       "      <td>116.21</td>\n",
       "      <td>4137100</td>\n",
       "      <td>437.53</td>\n",
       "      <td>440.3</td>\n",
       "      <td>436.79</td>\n",
       "      <td>439.9</td>\n",
       "      <td>53294703</td>\n",
       "    </tr>\n",
       "  </tbody>\n",
       "</table>\n",
       "</div>"
      ]
     },
     "metadata": {},
     "execution_count": 18
    }
   ],
   "metadata": {}
  },
  {
   "cell_type": "markdown",
   "source": [
    "#### Step 5: Navigating the Alpaca response DataFrame, select the `SPY` and `AGG` closing prices, and store them as variables."
   ],
   "metadata": {}
  },
  {
   "cell_type": "code",
   "execution_count": 19,
   "source": [
    "# Access the closing price for AGG from the Alpaca DataFrame\r\n",
    "# Converting the value to a floating point number\r\n",
    "agg_close_price = float(prices_df['AGG']['close'])\r\n",
    "\r\n",
    "# Print the AGG closing price\r\n",
    "print(f\"the most recent close price for AGG was ${agg_close_price:,.2f}\")\r\n"
   ],
   "outputs": [
    {
     "output_type": "stream",
     "name": "stdout",
     "text": [
      "the most recent close price for AGG was $116.21\n"
     ]
    }
   ],
   "metadata": {}
  },
  {
   "cell_type": "code",
   "execution_count": 20,
   "source": [
    "# Access the closing price for SPY from the Alpaca DataFrame\r\n",
    "# Converting the value to a floating point number\r\n",
    "spy_close_price = float(prices_df['SPY']['close'])\r\n",
    "\r\n",
    "# Print the SPY closing price\r\n",
    "print(f\"the most recent close price for AGG was ${spy_close_price:,.2f}\")\r\n"
   ],
   "outputs": [
    {
     "output_type": "stream",
     "name": "stdout",
     "text": [
      "the most recent close price for AGG was $439.90\n"
     ]
    }
   ],
   "metadata": {}
  },
  {
   "cell_type": "markdown",
   "source": [
    "#### Step 6: Calculate the value, in US dollars, of the current amount of shares in each of the stock and bond portions of the portfolio, and print the results."
   ],
   "metadata": {}
  },
  {
   "cell_type": "code",
   "execution_count": 21,
   "source": [
    "# Calculate the current value of the bond portion of the portfolio\r\n",
    "agg_value = agg_shares * agg_close_price\r\n",
    "\r\n",
    "# Print the current value of the bond portfolio\r\n",
    "print(f\"the current value of the member's bond portion is ${agg_value:,.2f}\")\r\n"
   ],
   "outputs": [
    {
     "output_type": "stream",
     "name": "stdout",
     "text": [
      "the current value of the member's bond portion is $23,242.00\n"
     ]
    }
   ],
   "metadata": {}
  },
  {
   "cell_type": "code",
   "execution_count": 24,
   "source": [
    "# Calculate the current value of the stock portion of the portfolio\r\n",
    "spy_value = spy_shares * spy_close_price\r\n",
    "\r\n",
    "# Print the current value of the stock portfolio\r\n",
    "print(f\"the current value of the member's stock portion is ${spy_value:,.2f}\")"
   ],
   "outputs": [
    {
     "output_type": "stream",
     "name": "stdout",
     "text": [
      "the current value of the member's stock portion is $48,389.00\n"
     ]
    }
   ],
   "metadata": {}
  },
  {
   "cell_type": "code",
   "execution_count": 26,
   "source": [
    "# Calculate the total value of the stock and bond portion of the portfolio\r\n",
    "total_stocks_bonds = spy_value + agg_value\r\n",
    "\r\n",
    "# Print the current balance of the stock and bond portion of the portfolio\r\n",
    "print(f\"the current value of the member's stock and bond portion is ${total_stocks_bonds:,.2f}\")\r\n"
   ],
   "outputs": [
    {
     "output_type": "stream",
     "name": "stdout",
     "text": [
      "the current value of the member's stock and bond portion is $71,631.00\n"
     ]
    }
   ],
   "metadata": {}
  },
  {
   "cell_type": "code",
   "execution_count": 28,
   "source": [
    "# Calculate the total value of the member's entire savings portfolio\r\n",
    "# Add the value of the cryptocurrency walled to the value of the total stocks and bonds\r\n",
    "total_portfolio = total_crypto_wallet + total_stocks_bonds\r\n",
    "\r\n",
    "# Print current savings portfolio total value\r\n",
    "print(f\"the current value of the member's savings portfolio is ${total_portfolio:,.2f}\")\r\n"
   ],
   "outputs": [
    {
     "output_type": "stream",
     "name": "stdout",
     "text": [
      "the current value of the member's savings portfolio is $130,153.56\n"
     ]
    }
   ],
   "metadata": {}
  },
  {
   "cell_type": "markdown",
   "source": [
    "### Evaluate the Emergency Fund\n",
    "\n",
    "In this section, you’ll use the valuations for the cryptocurrency wallet and for the stock and bond portions of the portfolio to determine if the credit union member has enough savings to build an emergency fund into their financial plan. To do this, complete the following steps:\n",
    "\n",
    "1. Create a Python list named `savings_data` that has two elements. The first element contains the total value of the cryptocurrency wallet. The second element contains the total value of the stock and bond portions of the portfolio.\n",
    "\n",
    "2. Use the `savings_data` list to create a Pandas DataFrame named `savings_df`, and then display this DataFrame. The function to create the DataFrame should take the following three parameters:\n",
    "\n",
    "    - `savings_data`: Use the list that you just created.\n",
    "\n",
    "    - `columns`: Set this parameter equal to a Python list with a single value called `amount`.\n",
    "\n",
    "    - `index`: Set this parameter equal to a Python list with the values of `crypto` and `stock/bond`.\n",
    "\n",
    "3. Use the `savings_df` DataFrame to plot a pie chart that visualizes the composition of the member’s portfolio. The y-axis of the pie chart uses `amount`. Be sure to add a title.\n",
    "\n",
    "4. Using Python, determine if the current portfolio has enough to create an emergency fund as part of the member’s financial plan. Ideally, an emergency fund should equal to three times the member’s monthly income. To do this, implement the following steps:\n",
    "\n",
    "    1. Create a variable named `emergency_fund_value`, and set it equal to three times the value of the member’s `monthly_income` of $12000. (You set this earlier in Part 1).\n",
    "\n",
    "    2. Create a series of three if statements to determine if the member’s total portfolio is large enough to fund the emergency portfolio:\n",
    "\n",
    "        1. If the total portfolio value is greater than the emergency fund value, display a message congratulating the member for having enough money in this fund.\n",
    "\n",
    "        2. Else if the total portfolio value is equal to the emergency fund value, display a message congratulating the member on reaching this important financial goal.\n",
    "\n",
    "        3. Else the total portfolio is less than the emergency fund value, so display a message showing how many dollars away the member is from reaching the goal. (Subtract the total portfolio value from the emergency fund value.)\n"
   ],
   "metadata": {}
  },
  {
   "cell_type": "markdown",
   "source": [
    "#### Step 1: Create a Python list named `savings_data` that has two elements. The first element contains the total value of the cryptocurrency wallet. The second element contains the total value of the stock and bond portions of the portfolio."
   ],
   "metadata": {}
  },
  {
   "cell_type": "code",
   "execution_count": 29,
   "source": [
    "# Consolidate financial assets data into a Python list\r\n",
    "savings_data = [total_crypto_wallet, total_stocks_bonds]\r\n",
    "\r\n",
    "# Review the Python list savings_data\r\n",
    "savings_data"
   ],
   "outputs": [
    {
     "output_type": "execute_result",
     "data": {
      "text/plain": [
       "[58522.556, 71631.0]"
      ]
     },
     "metadata": {},
     "execution_count": 29
    }
   ],
   "metadata": {}
  },
  {
   "cell_type": "markdown",
   "source": [
    "#### Step 2: Use the `savings_data` list to create a Pandas DataFrame named `savings_df`, and then display this DataFrame. The function to create the DataFrame should take the following three parameters:\n",
    "\n",
    "- `savings_data`: Use the list that you just created.\n",
    "\n",
    "- `columns`: Set this parameter equal to a Python list with a single value called `amount`.\n",
    "\n",
    "- `index`: Set this parameter equal to a Python list with the values of `crypto` and `stock/bond`.\n"
   ],
   "metadata": {}
  },
  {
   "cell_type": "code",
   "execution_count": 34,
   "source": [
    "# Create a Pandas DataFrame called savings_df \r\n",
    "savings_df = pd.DataFrame(\r\n",
    "    savings_data,\r\n",
    "    columns = ['amount'],\r\n",
    "    index = ['crypto','stock/bond']\r\n",
    ")\r\n",
    "\r\n",
    "# Display the savings_df DataFrame\r\n",
    "savings_df\r\n"
   ],
   "outputs": [
    {
     "output_type": "execute_result",
     "data": {
      "text/plain": [
       "               amount\n",
       "crypto      58522.556\n",
       "stock/bond  71631.000"
      ],
      "text/html": [
       "<div>\n",
       "<style scoped>\n",
       "    .dataframe tbody tr th:only-of-type {\n",
       "        vertical-align: middle;\n",
       "    }\n",
       "\n",
       "    .dataframe tbody tr th {\n",
       "        vertical-align: top;\n",
       "    }\n",
       "\n",
       "    .dataframe thead th {\n",
       "        text-align: right;\n",
       "    }\n",
       "</style>\n",
       "<table border=\"1\" class=\"dataframe\">\n",
       "  <thead>\n",
       "    <tr style=\"text-align: right;\">\n",
       "      <th></th>\n",
       "      <th>amount</th>\n",
       "    </tr>\n",
       "  </thead>\n",
       "  <tbody>\n",
       "    <tr>\n",
       "      <th>crypto</th>\n",
       "      <td>58522.556</td>\n",
       "    </tr>\n",
       "    <tr>\n",
       "      <th>stock/bond</th>\n",
       "      <td>71631.000</td>\n",
       "    </tr>\n",
       "  </tbody>\n",
       "</table>\n",
       "</div>"
      ]
     },
     "metadata": {},
     "execution_count": 34
    }
   ],
   "metadata": {}
  },
  {
   "cell_type": "markdown",
   "source": [
    "#### Step 3: Use the `savings_df` DataFrame to plot a pie chart that visualizes the composition of the member’s portfolio. The y-axis of the pie chart uses `amount`. Be sure to add a title."
   ],
   "metadata": {}
  },
  {
   "cell_type": "code",
   "execution_count": 35,
   "source": [
    "# Plot the total value of the member's portfolio (crypto and stock/bond) in a pie chart\r\n",
    "savings_df.plot.pie(y='amount', title='Portfolio Composition as of 2021-07-23')\r\n"
   ],
   "outputs": [
    {
     "output_type": "execute_result",
     "data": {
      "text/plain": [
       "<AxesSubplot:title={'center':'Portfolio Composition as of 2021-07-23'}, ylabel='amount'>"
      ]
     },
     "metadata": {},
     "execution_count": 35
    },
    {
     "output_type": "display_data",
     "data": {
      "text/plain": [
       "<Figure size 432x288 with 1 Axes>"
      ],
      "image/png": "[encoded data removed]"
     },
     "metadata": {}
    }
   ],
   "metadata": {}
  },
  {
   "cell_type": "markdown",
   "source": [
    "#### Step 4: Using Python, determine if the current portfolio has enough to create an emergency fund as part of the member’s financial plan. Ideally, an emergency fund should equal to three times the member’s monthly income. To do this, implement the following steps:\n",
    "\n",
    "Step 1. Create a variable named `emergency_fund_value`, and set it equal to three times the value of the member’s `monthly_income` of 12000. (You set this earlier in Part 1).\n",
    "\n",
    "Step 2. Create a series of three if statements to determine if the member’s total portfolio is large enough to fund the emergency portfolio:\n",
    "\n",
    "* If the total portfolio value is greater than the emergency fund value, display a message congratulating the member for having enough money in this fund.\n",
    "\n",
    "* Else if the total portfolio value is equal to the emergency fund value, display a message congratulating the member on reaching this important financial goal.\n",
    "\n",
    "* Else the total portfolio is less than the emergency fund value, so display a message showing how many dollars away the member is from reaching the goal. (Subtract the total portfolio value from the emergency fund value.)\n"
   ],
   "metadata": {}
  },
  {
   "cell_type": "markdown",
   "source": [
    "##### Step 4-1: Create a variable named `emergency_fund_value`, and set it equal to three times the value of the member’s `monthly_income` of 12000. (You set this earlier in Part 1)."
   ],
   "metadata": {}
  },
  {
   "cell_type": "code",
   "execution_count": 37,
   "source": [
    "# Create a variable named emergency_fund_value\r\n",
    "emergency_fund_value = monthly_income * 3\r\n"
   ],
   "outputs": [],
   "metadata": {}
  },
  {
   "cell_type": "markdown",
   "source": [
    "##### Step 4-2: Create a series of three if statements to determine if the member’s total portfolio is large enough to fund the emergency portfolio:\n",
    "\n",
    "* If the total portfolio value is greater than the emergency fund value, display a message congratulating the member for having enough money in this fund.\n",
    "\n",
    "* Else if the total portfolio value is equal to the emergency fund value, display a message congratulating the member on reaching this important financial goal.\n",
    "\n",
    "* Else the total portfolio is less than the emergency fund value, so display a message showing how many dollars away the member is from reaching the goal. (Subtract the total portfolio value from the emergency fund value.)"
   ],
   "metadata": {}
  },
  {
   "cell_type": "code",
   "execution_count": 64,
   "source": [
    "# Evaluate the possibility of creating an emergency fund with 3 conditions:\r\n",
    "if total_portfolio > emergency_fund_value:\r\n",
    "    print(f\"HOW 'BOUT THEM APPLES!?\\nWith a portfolio value of ${total_portfolio:,.2f} \"\r\n",
    "            f\"as of the most recent trading day {prior_weekday},\\n\"\r\n",
    "            f\"and based upon your monthly income of ${monthly_income:,.2f}, you are currently exceeding the\\n\"\r\n",
    "            f\"recommended 'Emergency Fund Value' of ${emergency_fund_value:,.2f} \"\r\n",
    "            f\"by ${total_portfolio - emergency_fund_value:,.2f}!\\n\"\r\n",
    "            f\"KEEP UP THE GOOD WORK!!\"\r\n",
    "        )\r\n",
    "elif total_portfolio == emergency_fund_value:\r\n",
    "    print(f\"NOW WE'RE TALKIN'!!\\n\"\r\n",
    "        f\"You've just hit the recommended 'Emergency Fund Value' of ${emergency_fund_value:,.2f}!\\n\"\r\n",
    "        f\"Now is the time to double down your efforts and continue your beneficial habit\\n\"\r\n",
    "        f\"of saving money in your portfolio for life's unexpected events.\\n\\n...\\n\\n\\n\"\r\n",
    "        f\"HUHHCHA!!!\\n\\n\\n...\\n\\n\\n...betcha didn't see that comin', did'ya?\\n\\nSee!?\\n\\nSuRpRiSeS!\")\r\n",
    "else:\r\n",
    "    print(f\"YOU'RE GETTING THERE!!\\n\"\r\n",
    "        f\"your portfolio value is currently behind the\\n\"\r\n",
    "        f\"${emergency_fund_value:,.2f} recommended 'Emergency Fund Value' by ${emergency_fund_value - total_portfolio:,.2f}\\n\"\r\n",
    "        f\"keep saving, and you'll get there if you keep up\\n\"\r\n",
    "        f\"the good saving habits you've been developing.\\n\"\r\n",
    "        f\"DON'T GIVE UP!! YOU CAN DO IT!\"\r\n",
    "    )\r\n"
   ],
   "outputs": [
    {
     "output_type": "stream",
     "name": "stdout",
     "text": [
      "YOU'RE GETTING THERE!!\n",
      "your portfolio value is currently behind the\n",
      "$36,000.00 recommended 'Emergency Fund Value' by $1.00\n",
      "keep saving, and you'll get there if you keep up\n",
      "the good saving habits you've been developing.\n",
      "DON'T GIVE UP!! YOU CAN DO IT!\n"
     ]
    }
   ],
   "metadata": {}
  },
  {
   "cell_type": "markdown",
   "source": [
    "## Part 2: Create a Financial Planner for Retirement"
   ],
   "metadata": {}
  },
  {
   "cell_type": "markdown",
   "source": [
    "### Create the Monte Carlo Simulation\n",
    "\n",
    "In this section, you’ll use the MCForecastTools library to create a Monte Carlo simulation for the member’s savings portfolio. To do this, complete the following steps:\n",
    "\n",
    "1. Make an API call via the Alpaca SDK to get 3 years of historical closing prices for a traditional 60/40 portfolio split: 60% stocks (SPY) and 40% bonds (AGG).\n",
    "\n",
    "2. Run a Monte Carlo simulation of 500 samples and 30 years for the 60/40 portfolio, and then plot the results.The following image shows the overlay line plot resulting from a simulation with these characteristics. However, because a random number generator is used to run each live Monte Carlo simulation, your image will differ slightly from this exact image:\n",
    "\n",
    "![A screenshot depicts the resulting plot.](Images/5-4-monte-carlo-line-plot.png)\n",
    "\n",
    "3. Plot the probability distribution of the Monte Carlo simulation. Plot the probability distribution of the Monte Carlo simulation. The following image shows the histogram plot resulting from a simulation with these characteristics. However, because a random number generator is used to run each live Monte Carlo simulation, your image will differ slightly from this exact image:\n",
    "\n",
    "![A screenshot depicts the histogram plot.](Images/5-4-monte-carlo-histogram.png)\n",
    "\n",
    "4. Generate the summary statistics for the Monte Carlo simulation.\n",
    "\n"
   ],
   "metadata": {}
  },
  {
   "cell_type": "markdown",
   "source": [
    "#### Step 1: Make an API call via the Alpaca SDK to get 3 years of historical closing prices for a traditional 60/40 portfolio split: 60% stocks (SPY) and 40% bonds (AGG)."
   ],
   "metadata": {}
  },
  {
   "cell_type": "code",
   "execution_count": 65,
   "source": [
    "# Set start and end dates of 3 years back from your current date\r\n",
    "# Alternatively, you can use an end date of 2020-08-07 and work 3 years back from that date \r\n",
    "start_date = pd.Timestamp('2018-07-23',tz='America/New_York').isoformat()\r\n",
    "end_date = pd.Timestamp('2021-07-23',tz='America/New_York').isoformat()\r\n",
    "# Set number of rows to 1000 to retrieve the maximum amount of rows\r\n",
    "limit_rows = 1000"
   ],
   "outputs": [],
   "metadata": {}
  },
  {
   "cell_type": "code",
   "execution_count": 69,
   "source": [
    "# Use the Alpaca get_barset function to make the API call to get the 3 years worth of pricing data\r\n",
    "# The tickers and timeframe parameters should have been set in Part 1 of this activity \r\n",
    "# The start and end dates should be updated with the information set above\r\n",
    "# Remember to add the df property to the end of the call so the response is returned as a DataFrame\r\n",
    "prices_df = alpaca.get_barset(\r\n",
    "    tickers,\r\n",
    "    timeframe,\r\n",
    "    start=start_date,\r\n",
    "    end=end_date,\r\n",
    "    limit=limit_rows\r\n",
    ").df\r\n"
   ],
   "outputs": [],
   "metadata": {}
  },
  {
   "cell_type": "code",
   "execution_count": 70,
   "source": [
    "# Display both the first and last five rows of the DataFrame\r\n",
    "display(prices_df.head())\r\n",
    "display(prices_df.tail())"
   ],
   "outputs": [
    {
     "output_type": "display_data",
     "data": {
      "text/plain": [
       "                              AGG                                          \\\n",
       "                             open      high       low    close     volume   \n",
       "time                                                                        \n",
       "2018-07-23 00:00:00-04:00  106.17  106.1850  105.8850  105.910  1603571.0   \n",
       "2018-07-24 00:00:00-04:00  105.92  106.0700  105.9001  106.040  1924876.0   \n",
       "2018-07-25 00:00:00-04:00  106.12  106.1700  105.9500  106.050  2028743.0   \n",
       "2018-07-26 00:00:00-04:00  106.10  106.1500  105.9500  106.000  1721051.0   \n",
       "2018-07-27 00:00:00-04:00  106.13  106.1599  106.0400  106.075  1261312.0   \n",
       "\n",
       "                              SPY                                    \n",
       "                             open    high     low   close    volume  \n",
       "time                                                                 \n",
       "2018-07-23 00:00:00-04:00  279.45  280.43  279.06  280.24  34039725  \n",
       "2018-07-24 00:00:00-04:00  281.79  282.56  280.63  281.57  46684350  \n",
       "2018-07-25 00:00:00-04:00  281.33  284.37  281.28  284.13  50868250  \n",
       "2018-07-26 00:00:00-04:00  283.21  284.11  283.09  283.29  38319472  \n",
       "2018-07-27 00:00:00-04:00  283.71  283.82  280.38  281.46  57211361  "
      ],
      "text/html": [
       "<div>\n",
       "<style scoped>\n",
       "    .dataframe tbody tr th:only-of-type {\n",
       "        vertical-align: middle;\n",
       "    }\n",
       "\n",
       "    .dataframe tbody tr th {\n",
       "        vertical-align: top;\n",
       "    }\n",
       "\n",
       "    .dataframe thead tr th {\n",
       "        text-align: left;\n",
       "    }\n",
       "\n",
       "    .dataframe thead tr:last-of-type th {\n",
       "        text-align: right;\n",
       "    }\n",
       "</style>\n",
       "<table border=\"1\" class=\"dataframe\">\n",
       "  <thead>\n",
       "    <tr>\n",
       "      <th></th>\n",
       "      <th colspan=\"5\" halign=\"left\">AGG</th>\n",
       "      <th colspan=\"5\" halign=\"left\">SPY</th>\n",
       "    </tr>\n",
       "    <tr>\n",
       "      <th></th>\n",
       "      <th>open</th>\n",
       "      <th>high</th>\n",
       "      <th>low</th>\n",
       "      <th>close</th>\n",
       "      <th>volume</th>\n",
       "      <th>open</th>\n",
       "      <th>high</th>\n",
       "      <th>low</th>\n",
       "      <th>close</th>\n",
       "      <th>volume</th>\n",
       "    </tr>\n",
       "    <tr>\n",
       "      <th>time</th>\n",
       "      <th></th>\n",
       "      <th></th>\n",
       "      <th></th>\n",
       "      <th></th>\n",
       "      <th></th>\n",
       "      <th></th>\n",
       "      <th></th>\n",
       "      <th></th>\n",
       "      <th></th>\n",
       "      <th></th>\n",
       "    </tr>\n",
       "  </thead>\n",
       "  <tbody>\n",
       "    <tr>\n",
       "      <th>2018-07-23 00:00:00-04:00</th>\n",
       "      <td>106.17</td>\n",
       "      <td>106.1850</td>\n",
       "      <td>105.8850</td>\n",
       "      <td>105.910</td>\n",
       "      <td>1603571.0</td>\n",
       "      <td>279.45</td>\n",
       "      <td>280.43</td>\n",
       "      <td>279.06</td>\n",
       "      <td>280.24</td>\n",
       "      <td>34039725</td>\n",
       "    </tr>\n",
       "    <tr>\n",
       "      <th>2018-07-24 00:00:00-04:00</th>\n",
       "      <td>105.92</td>\n",
       "      <td>106.0700</td>\n",
       "      <td>105.9001</td>\n",
       "      <td>106.040</td>\n",
       "      <td>1924876.0</td>\n",
       "      <td>281.79</td>\n",
       "      <td>282.56</td>\n",
       "      <td>280.63</td>\n",
       "      <td>281.57</td>\n",
       "      <td>46684350</td>\n",
       "    </tr>\n",
       "    <tr>\n",
       "      <th>2018-07-25 00:00:00-04:00</th>\n",
       "      <td>106.12</td>\n",
       "      <td>106.1700</td>\n",
       "      <td>105.9500</td>\n",
       "      <td>106.050</td>\n",
       "      <td>2028743.0</td>\n",
       "      <td>281.33</td>\n",
       "      <td>284.37</td>\n",
       "      <td>281.28</td>\n",
       "      <td>284.13</td>\n",
       "      <td>50868250</td>\n",
       "    </tr>\n",
       "    <tr>\n",
       "      <th>2018-07-26 00:00:00-04:00</th>\n",
       "      <td>106.10</td>\n",
       "      <td>106.1500</td>\n",
       "      <td>105.9500</td>\n",
       "      <td>106.000</td>\n",
       "      <td>1721051.0</td>\n",
       "      <td>283.21</td>\n",
       "      <td>284.11</td>\n",
       "      <td>283.09</td>\n",
       "      <td>283.29</td>\n",
       "      <td>38319472</td>\n",
       "    </tr>\n",
       "    <tr>\n",
       "      <th>2018-07-27 00:00:00-04:00</th>\n",
       "      <td>106.13</td>\n",
       "      <td>106.1599</td>\n",
       "      <td>106.0400</td>\n",
       "      <td>106.075</td>\n",
       "      <td>1261312.0</td>\n",
       "      <td>283.71</td>\n",
       "      <td>283.82</td>\n",
       "      <td>280.38</td>\n",
       "      <td>281.46</td>\n",
       "      <td>57211361</td>\n",
       "    </tr>\n",
       "  </tbody>\n",
       "</table>\n",
       "</div>"
      ]
     },
     "metadata": {}
    },
    {
     "output_type": "display_data",
     "data": {
      "text/plain": [
       "                               AGG                                       \\\n",
       "                              open      high     low   close     volume   \n",
       "time                                                                      \n",
       "2021-07-19 00:00:00-04:00  116.390  116.6085  116.35  116.52  6476334.0   \n",
       "2021-07-20 00:00:00-04:00  116.780  116.8200  116.32  116.39  7229222.0   \n",
       "2021-07-21 00:00:00-04:00  116.075  116.1500  115.92  116.02  7773071.0   \n",
       "2021-07-22 00:00:00-04:00  116.030  116.3500  116.03  116.29  6269656.0   \n",
       "2021-07-23 00:00:00-04:00  116.030  116.2200  116.03  116.21  4137100.0   \n",
       "\n",
       "                              SPY                                         \n",
       "                             open      high       low   close     volume  \n",
       "time                                                                      \n",
       "2021-07-19 00:00:00-04:00  426.19  431.4089  421.9700  424.97  127607115  \n",
       "2021-07-20 00:00:00-04:00  425.68  432.4200  424.8300  431.04   87430308  \n",
       "2021-07-21 00:00:00-04:00  432.34  434.7000  431.0111  434.56   54251351  \n",
       "2021-07-22 00:00:00-04:00  434.74  435.7200  433.6900  435.50   41998182  \n",
       "2021-07-23 00:00:00-04:00  437.53  440.3000  436.7900  439.90   53294703  "
      ],
      "text/html": [
       "<div>\n",
       "<style scoped>\n",
       "    .dataframe tbody tr th:only-of-type {\n",
       "        vertical-align: middle;\n",
       "    }\n",
       "\n",
       "    .dataframe tbody tr th {\n",
       "        vertical-align: top;\n",
       "    }\n",
       "\n",
       "    .dataframe thead tr th {\n",
       "        text-align: left;\n",
       "    }\n",
       "\n",
       "    .dataframe thead tr:last-of-type th {\n",
       "        text-align: right;\n",
       "    }\n",
       "</style>\n",
       "<table border=\"1\" class=\"dataframe\">\n",
       "  <thead>\n",
       "    <tr>\n",
       "      <th></th>\n",
       "      <th colspan=\"5\" halign=\"left\">AGG</th>\n",
       "      <th colspan=\"5\" halign=\"left\">SPY</th>\n",
       "    </tr>\n",
       "    <tr>\n",
       "      <th></th>\n",
       "      <th>open</th>\n",
       "      <th>high</th>\n",
       "      <th>low</th>\n",
       "      <th>close</th>\n",
       "      <th>volume</th>\n",
       "      <th>open</th>\n",
       "      <th>high</th>\n",
       "      <th>low</th>\n",
       "      <th>close</th>\n",
       "      <th>volume</th>\n",
       "    </tr>\n",
       "    <tr>\n",
       "      <th>time</th>\n",
       "      <th></th>\n",
       "      <th></th>\n",
       "      <th></th>\n",
       "      <th></th>\n",
       "      <th></th>\n",
       "      <th></th>\n",
       "      <th></th>\n",
       "      <th></th>\n",
       "      <th></th>\n",
       "      <th></th>\n",
       "    </tr>\n",
       "  </thead>\n",
       "  <tbody>\n",
       "    <tr>\n",
       "      <th>2021-07-19 00:00:00-04:00</th>\n",
       "      <td>116.390</td>\n",
       "      <td>116.6085</td>\n",
       "      <td>116.35</td>\n",
       "      <td>116.52</td>\n",
       "      <td>6476334.0</td>\n",
       "      <td>426.19</td>\n",
       "      <td>431.4089</td>\n",
       "      <td>421.9700</td>\n",
       "      <td>424.97</td>\n",
       "      <td>127607115</td>\n",
       "    </tr>\n",
       "    <tr>\n",
       "      <th>2021-07-20 00:00:00-04:00</th>\n",
       "      <td>116.780</td>\n",
       "      <td>116.8200</td>\n",
       "      <td>116.32</td>\n",
       "      <td>116.39</td>\n",
       "      <td>7229222.0</td>\n",
       "      <td>425.68</td>\n",
       "      <td>432.4200</td>\n",
       "      <td>424.8300</td>\n",
       "      <td>431.04</td>\n",
       "      <td>87430308</td>\n",
       "    </tr>\n",
       "    <tr>\n",
       "      <th>2021-07-21 00:00:00-04:00</th>\n",
       "      <td>116.075</td>\n",
       "      <td>116.1500</td>\n",
       "      <td>115.92</td>\n",
       "      <td>116.02</td>\n",
       "      <td>7773071.0</td>\n",
       "      <td>432.34</td>\n",
       "      <td>434.7000</td>\n",
       "      <td>431.0111</td>\n",
       "      <td>434.56</td>\n",
       "      <td>54251351</td>\n",
       "    </tr>\n",
       "    <tr>\n",
       "      <th>2021-07-22 00:00:00-04:00</th>\n",
       "      <td>116.030</td>\n",
       "      <td>116.3500</td>\n",
       "      <td>116.03</td>\n",
       "      <td>116.29</td>\n",
       "      <td>6269656.0</td>\n",
       "      <td>434.74</td>\n",
       "      <td>435.7200</td>\n",
       "      <td>433.6900</td>\n",
       "      <td>435.50</td>\n",
       "      <td>41998182</td>\n",
       "    </tr>\n",
       "    <tr>\n",
       "      <th>2021-07-23 00:00:00-04:00</th>\n",
       "      <td>116.030</td>\n",
       "      <td>116.2200</td>\n",
       "      <td>116.03</td>\n",
       "      <td>116.21</td>\n",
       "      <td>4137100.0</td>\n",
       "      <td>437.53</td>\n",
       "      <td>440.3000</td>\n",
       "      <td>436.7900</td>\n",
       "      <td>439.90</td>\n",
       "      <td>53294703</td>\n",
       "    </tr>\n",
       "  </tbody>\n",
       "</table>\n",
       "</div>"
      ]
     },
     "metadata": {}
    }
   ],
   "metadata": {}
  },
  {
   "cell_type": "markdown",
   "source": [
    "#### Step 2: Run a Monte Carlo simulation of 500 samples and 30 years for the 60/40 portfolio, and then plot the results."
   ],
   "metadata": {}
  },
  {
   "cell_type": "code",
   "execution_count": 72,
   "source": [
    "# Configure the Monte Carlo simulation to forecast 30 years cumulative returns\r\n",
    "# The weights should be split 40% to AGG and 60% to SPY.\r\n",
    "# Run 500 samples.\r\n",
    "MC_spy = MCSimulation(\r\n",
    "    portfolio_data=prices_df,\r\n",
    "    weights=[.40,.60],\r\n",
    "    num_simulation=500,\r\n",
    "    num_trading_days=252*30\r\n",
    ")\r\n",
    "\r\n",
    "# Review the simulation input data\r\n",
    "MC_spy.portfolio_data.head()"
   ],
   "outputs": [
    {
     "output_type": "execute_result",
     "data": {
      "text/plain": [
       "                              AGG                                          \\\n",
       "                             open      high       low    close     volume   \n",
       "time                                                                        \n",
       "2018-07-23 00:00:00-04:00  106.17  106.1850  105.8850  105.910  1603571.0   \n",
       "2018-07-24 00:00:00-04:00  105.92  106.0700  105.9001  106.040  1924876.0   \n",
       "2018-07-25 00:00:00-04:00  106.12  106.1700  105.9500  106.050  2028743.0   \n",
       "2018-07-26 00:00:00-04:00  106.10  106.1500  105.9500  106.000  1721051.0   \n",
       "2018-07-27 00:00:00-04:00  106.13  106.1599  106.0400  106.075  1261312.0   \n",
       "\n",
       "                                           SPY                          \\\n",
       "                          daily_return    open    high     low   close   \n",
       "time                                                                     \n",
       "2018-07-23 00:00:00-04:00          NaN  279.45  280.43  279.06  280.24   \n",
       "2018-07-24 00:00:00-04:00     0.001227  281.79  282.56  280.63  281.57   \n",
       "2018-07-25 00:00:00-04:00     0.000094  281.33  284.37  281.28  284.13   \n",
       "2018-07-26 00:00:00-04:00    -0.000471  283.21  284.11  283.09  283.29   \n",
       "2018-07-27 00:00:00-04:00     0.000708  283.71  283.82  280.38  281.46   \n",
       "\n",
       "                                                  \n",
       "                             volume daily_return  \n",
       "time                                              \n",
       "2018-07-23 00:00:00-04:00  34039725          NaN  \n",
       "2018-07-24 00:00:00-04:00  46684350     0.004746  \n",
       "2018-07-25 00:00:00-04:00  50868250     0.009092  \n",
       "2018-07-26 00:00:00-04:00  38319472    -0.002956  \n",
       "2018-07-27 00:00:00-04:00  57211361    -0.006460  "
      ],
      "text/html": [
       "<div>\n",
       "<style scoped>\n",
       "    .dataframe tbody tr th:only-of-type {\n",
       "        vertical-align: middle;\n",
       "    }\n",
       "\n",
       "    .dataframe tbody tr th {\n",
       "        vertical-align: top;\n",
       "    }\n",
       "\n",
       "    .dataframe thead tr th {\n",
       "        text-align: left;\n",
       "    }\n",
       "\n",
       "    .dataframe thead tr:last-of-type th {\n",
       "        text-align: right;\n",
       "    }\n",
       "</style>\n",
       "<table border=\"1\" class=\"dataframe\">\n",
       "  <thead>\n",
       "    <tr>\n",
       "      <th></th>\n",
       "      <th colspan=\"6\" halign=\"left\">AGG</th>\n",
       "      <th colspan=\"6\" halign=\"left\">SPY</th>\n",
       "    </tr>\n",
       "    <tr>\n",
       "      <th></th>\n",
       "      <th>open</th>\n",
       "      <th>high</th>\n",
       "      <th>low</th>\n",
       "      <th>close</th>\n",
       "      <th>volume</th>\n",
       "      <th>daily_return</th>\n",
       "      <th>open</th>\n",
       "      <th>high</th>\n",
       "      <th>low</th>\n",
       "      <th>close</th>\n",
       "      <th>volume</th>\n",
       "      <th>daily_return</th>\n",
       "    </tr>\n",
       "    <tr>\n",
       "      <th>time</th>\n",
       "      <th></th>\n",
       "      <th></th>\n",
       "      <th></th>\n",
       "      <th></th>\n",
       "      <th></th>\n",
       "      <th></th>\n",
       "      <th></th>\n",
       "      <th></th>\n",
       "      <th></th>\n",
       "      <th></th>\n",
       "      <th></th>\n",
       "      <th></th>\n",
       "    </tr>\n",
       "  </thead>\n",
       "  <tbody>\n",
       "    <tr>\n",
       "      <th>2018-07-23 00:00:00-04:00</th>\n",
       "      <td>106.17</td>\n",
       "      <td>106.1850</td>\n",
       "      <td>105.8850</td>\n",
       "      <td>105.910</td>\n",
       "      <td>1603571.0</td>\n",
       "      <td>NaN</td>\n",
       "      <td>279.45</td>\n",
       "      <td>280.43</td>\n",
       "      <td>279.06</td>\n",
       "      <td>280.24</td>\n",
       "      <td>34039725</td>\n",
       "      <td>NaN</td>\n",
       "    </tr>\n",
       "    <tr>\n",
       "      <th>2018-07-24 00:00:00-04:00</th>\n",
       "      <td>105.92</td>\n",
       "      <td>106.0700</td>\n",
       "      <td>105.9001</td>\n",
       "      <td>106.040</td>\n",
       "      <td>1924876.0</td>\n",
       "      <td>0.001227</td>\n",
       "      <td>281.79</td>\n",
       "      <td>282.56</td>\n",
       "      <td>280.63</td>\n",
       "      <td>281.57</td>\n",
       "      <td>46684350</td>\n",
       "      <td>0.004746</td>\n",
       "    </tr>\n",
       "    <tr>\n",
       "      <th>2018-07-25 00:00:00-04:00</th>\n",
       "      <td>106.12</td>\n",
       "      <td>106.1700</td>\n",
       "      <td>105.9500</td>\n",
       "      <td>106.050</td>\n",
       "      <td>2028743.0</td>\n",
       "      <td>0.000094</td>\n",
       "      <td>281.33</td>\n",
       "      <td>284.37</td>\n",
       "      <td>281.28</td>\n",
       "      <td>284.13</td>\n",
       "      <td>50868250</td>\n",
       "      <td>0.009092</td>\n",
       "    </tr>\n",
       "    <tr>\n",
       "      <th>2018-07-26 00:00:00-04:00</th>\n",
       "      <td>106.10</td>\n",
       "      <td>106.1500</td>\n",
       "      <td>105.9500</td>\n",
       "      <td>106.000</td>\n",
       "      <td>1721051.0</td>\n",
       "      <td>-0.000471</td>\n",
       "      <td>283.21</td>\n",
       "      <td>284.11</td>\n",
       "      <td>283.09</td>\n",
       "      <td>283.29</td>\n",
       "      <td>38319472</td>\n",
       "      <td>-0.002956</td>\n",
       "    </tr>\n",
       "    <tr>\n",
       "      <th>2018-07-27 00:00:00-04:00</th>\n",
       "      <td>106.13</td>\n",
       "      <td>106.1599</td>\n",
       "      <td>106.0400</td>\n",
       "      <td>106.075</td>\n",
       "      <td>1261312.0</td>\n",
       "      <td>0.000708</td>\n",
       "      <td>283.71</td>\n",
       "      <td>283.82</td>\n",
       "      <td>280.38</td>\n",
       "      <td>281.46</td>\n",
       "      <td>57211361</td>\n",
       "      <td>-0.006460</td>\n",
       "    </tr>\n",
       "  </tbody>\n",
       "</table>\n",
       "</div>"
      ]
     },
     "metadata": {},
     "execution_count": 72
    }
   ],
   "metadata": {}
  },
  {
   "cell_type": "code",
   "execution_count": 73,
   "source": [
    "# Run the Monte Carlo simulation to forecast 30 years cumulative returns\r\n",
    "MC_spy.calc_cumulative_return()\r\n"
   ],
   "outputs": [
    {
     "output_type": "stream",
     "name": "stdout",
     "text": [
      "Running Monte Carlo simulation number 0.\n",
      "Running Monte Carlo simulation number 10.\n",
      "Running Monte Carlo simulation number 20.\n",
      "Running Monte Carlo simulation number 30.\n",
      "Running Monte Carlo simulation number 40.\n",
      "Running Monte Carlo simulation number 50.\n",
      "Running Monte Carlo simulation number 60.\n",
      "Running Monte Carlo simulation number 70.\n",
      "Running Monte Carlo simulation number 80.\n",
      "Running Monte Carlo simulation number 90.\n",
      "Running Monte Carlo simulation number 100.\n",
      "Running Monte Carlo simulation number 110.\n",
      "Running Monte Carlo simulation number 120.\n",
      "Running Monte Carlo simulation number 130.\n",
      "Running Monte Carlo simulation number 140.\n",
      "Running Monte Carlo simulation number 150.\n",
      "Running Monte Carlo simulation number 160.\n",
      "Running Monte Carlo simulation number 170.\n",
      "Running Monte Carlo simulation number 180.\n",
      "Running Monte Carlo simulation number 190.\n",
      "Running Monte Carlo simulation number 200.\n",
      "Running Monte Carlo simulation number 210.\n",
      "Running Monte Carlo simulation number 220.\n",
      "Running Monte Carlo simulation number 230.\n",
      "Running Monte Carlo simulation number 240.\n",
      "Running Monte Carlo simulation number 250.\n",
      "Running Monte Carlo simulation number 260.\n",
      "Running Monte Carlo simulation number 270.\n",
      "Running Monte Carlo simulation number 280.\n",
      "Running Monte Carlo simulation number 290.\n",
      "Running Monte Carlo simulation number 300.\n",
      "Running Monte Carlo simulation number 310.\n",
      "Running Monte Carlo simulation number 320.\n",
      "Running Monte Carlo simulation number 330.\n",
      "Running Monte Carlo simulation number 340.\n",
      "Running Monte Carlo simulation number 350.\n",
      "Running Monte Carlo simulation number 360.\n",
      "Running Monte Carlo simulation number 370.\n",
      "Running Monte Carlo simulation number 380.\n",
      "Running Monte Carlo simulation number 390.\n",
      "Running Monte Carlo simulation number 400.\n",
      "Running Monte Carlo simulation number 410.\n",
      "Running Monte Carlo simulation number 420.\n",
      "Running Monte Carlo simulation number 430.\n",
      "Running Monte Carlo simulation number 440.\n",
      "Running Monte Carlo simulation number 450.\n",
      "Running Monte Carlo simulation number 460.\n",
      "Running Monte Carlo simulation number 470.\n",
      "Running Monte Carlo simulation number 480.\n",
      "Running Monte Carlo simulation number 490.\n"
     ]
    },
    {
     "output_type": "execute_result",
     "data": {
      "text/plain": [
       "            0          1         2         3          4          5    \\\n",
       "0      1.000000   1.000000  1.000000  1.000000   1.000000   1.000000   \n",
       "1      0.998227   1.014592  0.990226  1.004030   0.980812   0.996323   \n",
       "2      0.995646   1.025461  0.977316  0.997188   0.983575   0.996575   \n",
       "3      1.002575   1.031282  0.976478  0.991051   0.974456   1.006352   \n",
       "4      1.006183   1.030575  0.972319  0.978058   0.977284   1.016326   \n",
       "...         ...        ...       ...       ...        ...        ...   \n",
       "7556  56.033163  21.335881  6.976968  5.986847  81.312355  97.902614   \n",
       "7557  56.108341  21.244070  6.930956  5.974114  82.380573  97.093404   \n",
       "7558  57.063077  20.857137  6.846468  6.002014  82.487662  98.049629   \n",
       "7559  56.990385  20.589884  6.867693  5.990876  81.593091  98.928919   \n",
       "7560  57.275987  20.704399  6.878957  6.015753  81.776551  98.282210   \n",
       "\n",
       "            6          7          8          9    ...        490        491  \\\n",
       "0      1.000000   1.000000   1.000000   1.000000  ...   1.000000   1.000000   \n",
       "1      0.997201   1.006350   0.999648   0.997997  ...   1.009876   1.004572   \n",
       "2      1.009108   0.994005   1.000935   0.997589  ...   1.001496   0.994119   \n",
       "3      1.014442   1.002051   1.003345   0.999276  ...   1.004282   0.997607   \n",
       "4      1.015986   1.027995   1.012345   1.006093  ...   0.991838   0.992750   \n",
       "...         ...        ...        ...        ...  ...        ...        ...   \n",
       "7556  14.270062  19.277339  17.578626  53.380040  ...  14.390430  24.794706   \n",
       "7557  14.180188  19.105706  17.566729  53.649841  ...  14.359233  25.005568   \n",
       "7558  14.120039  19.056047  17.521069  53.900577  ...  14.491030  25.100819   \n",
       "7559  14.285714  19.243527  17.510254  54.316178  ...  14.699618  25.195736   \n",
       "7560  14.214617  19.146954  17.582553  54.360707  ...  14.786303  25.647189   \n",
       "\n",
       "            492        493        494        495        496        497  \\\n",
       "0      1.000000   1.000000   1.000000   1.000000   1.000000   1.000000   \n",
       "1      0.998746   1.011177   0.994731   1.002460   1.011159   1.011723   \n",
       "2      0.998209   0.995450   0.988730   1.008829   1.008241   1.021208   \n",
       "3      0.995783   0.997675   0.979466   1.004395   1.013858   1.037021   \n",
       "4      1.000266   0.999700   0.978010   1.008370   1.024956   1.051777   \n",
       "...         ...        ...        ...        ...        ...        ...   \n",
       "7556  20.646685  15.541724  11.749908  20.274960  15.344837  27.062287   \n",
       "7557  20.972467  15.310665  11.764428  20.173134  15.462852  26.823187   \n",
       "7558  21.161155  15.572304  11.679806  20.349091  15.344753  27.075002   \n",
       "7559  21.405749  15.423725  11.803077  20.406043  15.400164  27.425806   \n",
       "7560  21.420636  15.323699  11.716530  20.139721  15.384314  27.553691   \n",
       "\n",
       "            498        499  \n",
       "0      1.000000   1.000000  \n",
       "1      1.004194   0.993493  \n",
       "2      1.004540   0.994823  \n",
       "3      1.011272   0.997572  \n",
       "4      1.021161   0.993467  \n",
       "...         ...        ...  \n",
       "7556  27.790382  53.917783  \n",
       "7557  27.916501  54.096052  \n",
       "7558  27.962402  54.473746  \n",
       "7559  27.549519  55.065578  \n",
       "7560  27.682709  55.191600  \n",
       "\n",
       "[7561 rows x 500 columns]"
      ],
      "text/html": [
       "<div>\n",
       "<style scoped>\n",
       "    .dataframe tbody tr th:only-of-type {\n",
       "        vertical-align: middle;\n",
       "    }\n",
       "\n",
       "    .dataframe tbody tr th {\n",
       "        vertical-align: top;\n",
       "    }\n",
       "\n",
       "    .dataframe thead th {\n",
       "        text-align: right;\n",
       "    }\n",
       "</style>\n",
       "<table border=\"1\" class=\"dataframe\">\n",
       "  <thead>\n",
       "    <tr style=\"text-align: right;\">\n",
       "      <th></th>\n",
       "      <th>0</th>\n",
       "      <th>1</th>\n",
       "      <th>2</th>\n",
       "      <th>3</th>\n",
       "      <th>4</th>\n",
       "      <th>5</th>\n",
       "      <th>6</th>\n",
       "      <th>7</th>\n",
       "      <th>8</th>\n",
       "      <th>9</th>\n",
       "      <th>...</th>\n",
       "      <th>490</th>\n",
       "      <th>491</th>\n",
       "      <th>492</th>\n",
       "      <th>493</th>\n",
       "      <th>494</th>\n",
       "      <th>495</th>\n",
       "      <th>496</th>\n",
       "      <th>497</th>\n",
       "      <th>498</th>\n",
       "      <th>499</th>\n",
       "    </tr>\n",
       "  </thead>\n",
       "  <tbody>\n",
       "    <tr>\n",
       "      <th>0</th>\n",
       "      <td>1.000000</td>\n",
       "      <td>1.000000</td>\n",
       "      <td>1.000000</td>\n",
       "      <td>1.000000</td>\n",
       "      <td>1.000000</td>\n",
       "      <td>1.000000</td>\n",
       "      <td>1.000000</td>\n",
       "      <td>1.000000</td>\n",
       "      <td>1.000000</td>\n",
       "      <td>1.000000</td>\n",
       "      <td>...</td>\n",
       "      <td>1.000000</td>\n",
       "      <td>1.000000</td>\n",
       "      <td>1.000000</td>\n",
       "      <td>1.000000</td>\n",
       "      <td>1.000000</td>\n",
       "      <td>1.000000</td>\n",
       "      <td>1.000000</td>\n",
       "      <td>1.000000</td>\n",
       "      <td>1.000000</td>\n",
       "      <td>1.000000</td>\n",
       "    </tr>\n",
       "    <tr>\n",
       "      <th>1</th>\n",
       "      <td>0.998227</td>\n",
       "      <td>1.014592</td>\n",
       "      <td>0.990226</td>\n",
       "      <td>1.004030</td>\n",
       "      <td>0.980812</td>\n",
       "      <td>0.996323</td>\n",
       "      <td>0.997201</td>\n",
       "      <td>1.006350</td>\n",
       "      <td>0.999648</td>\n",
       "      <td>0.997997</td>\n",
       "      <td>...</td>\n",
       "      <td>1.009876</td>\n",
       "      <td>1.004572</td>\n",
       "      <td>0.998746</td>\n",
       "      <td>1.011177</td>\n",
       "      <td>0.994731</td>\n",
       "      <td>1.002460</td>\n",
       "      <td>1.011159</td>\n",
       "      <td>1.011723</td>\n",
       "      <td>1.004194</td>\n",
       "      <td>0.993493</td>\n",
       "    </tr>\n",
       "    <tr>\n",
       "      <th>2</th>\n",
       "      <td>0.995646</td>\n",
       "      <td>1.025461</td>\n",
       "      <td>0.977316</td>\n",
       "      <td>0.997188</td>\n",
       "      <td>0.983575</td>\n",
       "      <td>0.996575</td>\n",
       "      <td>1.009108</td>\n",
       "      <td>0.994005</td>\n",
       "      <td>1.000935</td>\n",
       "      <td>0.997589</td>\n",
       "      <td>...</td>\n",
       "      <td>1.001496</td>\n",
       "      <td>0.994119</td>\n",
       "      <td>0.998209</td>\n",
       "      <td>0.995450</td>\n",
       "      <td>0.988730</td>\n",
       "      <td>1.008829</td>\n",
       "      <td>1.008241</td>\n",
       "      <td>1.021208</td>\n",
       "      <td>1.004540</td>\n",
       "      <td>0.994823</td>\n",
       "    </tr>\n",
       "    <tr>\n",
       "      <th>3</th>\n",
       "      <td>1.002575</td>\n",
       "      <td>1.031282</td>\n",
       "      <td>0.976478</td>\n",
       "      <td>0.991051</td>\n",
       "      <td>0.974456</td>\n",
       "      <td>1.006352</td>\n",
       "      <td>1.014442</td>\n",
       "      <td>1.002051</td>\n",
       "      <td>1.003345</td>\n",
       "      <td>0.999276</td>\n",
       "      <td>...</td>\n",
       "      <td>1.004282</td>\n",
       "      <td>0.997607</td>\n",
       "      <td>0.995783</td>\n",
       "      <td>0.997675</td>\n",
       "      <td>0.979466</td>\n",
       "      <td>1.004395</td>\n",
       "      <td>1.013858</td>\n",
       "      <td>1.037021</td>\n",
       "      <td>1.011272</td>\n",
       "      <td>0.997572</td>\n",
       "    </tr>\n",
       "    <tr>\n",
       "      <th>4</th>\n",
       "      <td>1.006183</td>\n",
       "      <td>1.030575</td>\n",
       "      <td>0.972319</td>\n",
       "      <td>0.978058</td>\n",
       "      <td>0.977284</td>\n",
       "      <td>1.016326</td>\n",
       "      <td>1.015986</td>\n",
       "      <td>1.027995</td>\n",
       "      <td>1.012345</td>\n",
       "      <td>1.006093</td>\n",
       "      <td>...</td>\n",
       "      <td>0.991838</td>\n",
       "      <td>0.992750</td>\n",
       "      <td>1.000266</td>\n",
       "      <td>0.999700</td>\n",
       "      <td>0.978010</td>\n",
       "      <td>1.008370</td>\n",
       "      <td>1.024956</td>\n",
       "      <td>1.051777</td>\n",
       "      <td>1.021161</td>\n",
       "      <td>0.993467</td>\n",
       "    </tr>\n",
       "    <tr>\n",
       "      <th>...</th>\n",
       "      <td>...</td>\n",
       "      <td>...</td>\n",
       "      <td>...</td>\n",
       "      <td>...</td>\n",
       "      <td>...</td>\n",
       "      <td>...</td>\n",
       "      <td>...</td>\n",
       "      <td>...</td>\n",
       "      <td>...</td>\n",
       "      <td>...</td>\n",
       "      <td>...</td>\n",
       "      <td>...</td>\n",
       "      <td>...</td>\n",
       "      <td>...</td>\n",
       "      <td>...</td>\n",
       "      <td>...</td>\n",
       "      <td>...</td>\n",
       "      <td>...</td>\n",
       "      <td>...</td>\n",
       "      <td>...</td>\n",
       "      <td>...</td>\n",
       "    </tr>\n",
       "    <tr>\n",
       "      <th>7556</th>\n",
       "      <td>56.033163</td>\n",
       "      <td>21.335881</td>\n",
       "      <td>6.976968</td>\n",
       "      <td>5.986847</td>\n",
       "      <td>81.312355</td>\n",
       "      <td>97.902614</td>\n",
       "      <td>14.270062</td>\n",
       "      <td>19.277339</td>\n",
       "      <td>17.578626</td>\n",
       "      <td>53.380040</td>\n",
       "      <td>...</td>\n",
       "      <td>14.390430</td>\n",
       "      <td>24.794706</td>\n",
       "      <td>20.646685</td>\n",
       "      <td>15.541724</td>\n",
       "      <td>11.749908</td>\n",
       "      <td>20.274960</td>\n",
       "      <td>15.344837</td>\n",
       "      <td>27.062287</td>\n",
       "      <td>27.790382</td>\n",
       "      <td>53.917783</td>\n",
       "    </tr>\n",
       "    <tr>\n",
       "      <th>7557</th>\n",
       "      <td>56.108341</td>\n",
       "      <td>21.244070</td>\n",
       "      <td>6.930956</td>\n",
       "      <td>5.974114</td>\n",
       "      <td>82.380573</td>\n",
       "      <td>97.093404</td>\n",
       "      <td>14.180188</td>\n",
       "      <td>19.105706</td>\n",
       "      <td>17.566729</td>\n",
       "      <td>53.649841</td>\n",
       "      <td>...</td>\n",
       "      <td>14.359233</td>\n",
       "      <td>25.005568</td>\n",
       "      <td>20.972467</td>\n",
       "      <td>15.310665</td>\n",
       "      <td>11.764428</td>\n",
       "      <td>20.173134</td>\n",
       "      <td>15.462852</td>\n",
       "      <td>26.823187</td>\n",
       "      <td>27.916501</td>\n",
       "      <td>54.096052</td>\n",
       "    </tr>\n",
       "    <tr>\n",
       "      <th>7558</th>\n",
       "      <td>57.063077</td>\n",
       "      <td>20.857137</td>\n",
       "      <td>6.846468</td>\n",
       "      <td>6.002014</td>\n",
       "      <td>82.487662</td>\n",
       "      <td>98.049629</td>\n",
       "      <td>14.120039</td>\n",
       "      <td>19.056047</td>\n",
       "      <td>17.521069</td>\n",
       "      <td>53.900577</td>\n",
       "      <td>...</td>\n",
       "      <td>14.491030</td>\n",
       "      <td>25.100819</td>\n",
       "      <td>21.161155</td>\n",
       "      <td>15.572304</td>\n",
       "      <td>11.679806</td>\n",
       "      <td>20.349091</td>\n",
       "      <td>15.344753</td>\n",
       "      <td>27.075002</td>\n",
       "      <td>27.962402</td>\n",
       "      <td>54.473746</td>\n",
       "    </tr>\n",
       "    <tr>\n",
       "      <th>7559</th>\n",
       "      <td>56.990385</td>\n",
       "      <td>20.589884</td>\n",
       "      <td>6.867693</td>\n",
       "      <td>5.990876</td>\n",
       "      <td>81.593091</td>\n",
       "      <td>98.928919</td>\n",
       "      <td>14.285714</td>\n",
       "      <td>19.243527</td>\n",
       "      <td>17.510254</td>\n",
       "      <td>54.316178</td>\n",
       "      <td>...</td>\n",
       "      <td>14.699618</td>\n",
       "      <td>25.195736</td>\n",
       "      <td>21.405749</td>\n",
       "      <td>15.423725</td>\n",
       "      <td>11.803077</td>\n",
       "      <td>20.406043</td>\n",
       "      <td>15.400164</td>\n",
       "      <td>27.425806</td>\n",
       "      <td>27.549519</td>\n",
       "      <td>55.065578</td>\n",
       "    </tr>\n",
       "    <tr>\n",
       "      <th>7560</th>\n",
       "      <td>57.275987</td>\n",
       "      <td>20.704399</td>\n",
       "      <td>6.878957</td>\n",
       "      <td>6.015753</td>\n",
       "      <td>81.776551</td>\n",
       "      <td>98.282210</td>\n",
       "      <td>14.214617</td>\n",
       "      <td>19.146954</td>\n",
       "      <td>17.582553</td>\n",
       "      <td>54.360707</td>\n",
       "      <td>...</td>\n",
       "      <td>14.786303</td>\n",
       "      <td>25.647189</td>\n",
       "      <td>21.420636</td>\n",
       "      <td>15.323699</td>\n",
       "      <td>11.716530</td>\n",
       "      <td>20.139721</td>\n",
       "      <td>15.384314</td>\n",
       "      <td>27.553691</td>\n",
       "      <td>27.682709</td>\n",
       "      <td>55.191600</td>\n",
       "    </tr>\n",
       "  </tbody>\n",
       "</table>\n",
       "<p>7561 rows × 500 columns</p>\n",
       "</div>"
      ]
     },
     "metadata": {},
     "execution_count": 73
    }
   ],
   "metadata": {}
  },
  {
   "cell_type": "code",
   "execution_count": 74,
   "source": [
    "# Visualize the 30-year Monte Carlo simulation by creating an\r\n",
    "# overlay line plot\r\n",
    "MC_spy_line_plot = MC_spy.plot_simulation()\r\n"
   ],
   "outputs": [
    {
     "output_type": "display_data",
     "data": {
      "text/plain": [
       "<Figure size 432x288 with 1 Axes>"
      ],
      "image/png": "[encoded data removed]"
     },
     "metadata": {
      "needs_background": "light"
     }
    }
   ],
   "metadata": {}
  },
  {
   "cell_type": "markdown",
   "source": [
    "#### Step 3: Plot the probability distribution of the Monte Carlo simulation."
   ],
   "metadata": {}
  },
  {
   "cell_type": "code",
   "execution_count": 75,
   "source": [
    "# Visualize the probability distribution of the 30-year Monte Carlo simulation \r\n",
    "# by plotting a histogram\r\n",
    "MC_spy_distribution_plot = MC_spy.plot_distribution()\r\n"
   ],
   "outputs": [
    {
     "output_type": "display_data",
     "data": {
      "text/plain": [
       "<Figure size 432x288 with 1 Axes>"
      ],
      "image/png": "[encoded data removed]"
     },
     "metadata": {
      "needs_background": "light"
     }
    }
   ],
   "metadata": {}
  },
  {
   "cell_type": "markdown",
   "source": [
    "#### Step 4: Generate the summary statistics for the Monte Carlo simulation."
   ],
   "metadata": {}
  },
  {
   "cell_type": "code",
   "execution_count": 76,
   "source": [
    "# Generate summary statistics from the 30-year Monte Carlo simulation results\r\n",
    "# Save the results as a variable\r\n",
    "MC_spy_table = MC_spy.summarize_cumulative_return()\r\n",
    "\r\n",
    "\r\n",
    "# Review the 30-year Monte Carlo summary statistics\r\n",
    "print(MC_spy_table)"
   ],
   "outputs": [
    {
     "output_type": "stream",
     "name": "stdout",
     "text": [
      "count           500.000000\n",
      "mean             36.215313\n",
      "std              33.227868\n",
      "min               2.096632\n",
      "25%              16.370458\n",
      "50%              27.573889\n",
      "75%              44.340875\n",
      "max             316.086015\n",
      "95% CI Lower      6.260886\n",
      "95% CI Upper    115.473364\n",
      "Name: 7560, dtype: float64\n"
     ]
    }
   ],
   "metadata": {}
  },
  {
   "cell_type": "markdown",
   "source": [
    "### Analyze the Retirement Portfolio Forecasts\n",
    "\n",
    "Using the current value of only the stock and bond portion of the member's portfolio and the summary statistics that you generated from the Monte Carlo simulation, answer the following question in your Jupyter notebook:\n",
    "\n",
    "-  What are the lower and upper bounds for the expected value of the portfolio with a 95% confidence interval?\n"
   ],
   "metadata": {}
  },
  {
   "cell_type": "code",
   "execution_count": 77,
   "source": [
    "# Print the current balance of the stock and bond portion of the members portfolio\r\n",
    "print(f\"the current value of the member's stock and bond portion of their portfolio is ${total_stocks_bonds:,.2f}\")\r\n"
   ],
   "outputs": [
    {
     "output_type": "stream",
     "name": "stdout",
     "text": [
      "the current value of the member's stock and bond portion of their portfolio is $71,631.00\n"
     ]
    }
   ],
   "metadata": {}
  },
  {
   "cell_type": "code",
   "execution_count": 80,
   "source": [
    "# Use the lower and upper `95%` confidence intervals to calculate the range of the possible outcomes for the current stock/bond portfolio\r\n",
    "ci_lower_thirty_cumulative_return = round(MC_spy_table[8]*total_stocks_bonds,2)\r\n",
    "ci_upper_thirty_cumulative_return = round(MC_spy_table[9]*total_stocks_bonds,2)\r\n",
    "\r\n",
    "# Print the result of your calculations\r\n",
    "print(f\"There is a 95% chance that a portfolio valued at ${total_stocks_bonds:,.2f},with a weight distribution of 60% SPY and 40% AGG,\\n\"\r\n",
    "      f\"over the next 30 years will end within in the range of\"\r\n",
    "      f\" ${ci_lower_thirty_cumulative_return:,.2f} and ${ci_upper_thirty_cumulative_return:,.2f}.\")\r\n"
   ],
   "outputs": [
    {
     "output_type": "stream",
     "name": "stdout",
     "text": [
      "There is a 95% chance that a portfolio valued at $71,631.00,with a weight distribution of 60% SPY and 40% AGG,\n",
      "over the next 30 years will end within in the range of $448,473.50 and $8,271,472.56.\n"
     ]
    }
   ],
   "metadata": {}
  },
  {
   "cell_type": "markdown",
   "source": [
    "### Forecast Cumulative Returns in 10 Years\n",
    "\n",
    "The CTO of the credit union is impressed with your work on these planning tools but wonders if 30 years is a long time to wait until retirement. So, your next task is to adjust the retirement portfolio and run a new Monte Carlo simulation to find out if the changes will allow members to retire earlier.\n",
    "\n",
    "For this new Monte Carlo simulation, do the following: \n",
    "\n",
    "- Forecast the cumulative returns for 10 years from now. Because of the shortened investment horizon (30 years to 10 years), the portfolio needs to invest more heavily in the riskier asset&mdash;that is, stock&mdash;to help accumulate wealth for retirement. \n",
    "\n",
    "- Adjust the weights of the retirement portfolio so that the composition for the Monte Carlo simulation consists of 20% bonds and 80% stocks. \n",
    "\n",
    "- Run the simulation over 500 samples, and use the same data that the API call to Alpaca generated.\n",
    "\n",
    "- Based on the new Monte Carlo simulation, answer the following questions in your Jupyter notebook:\n",
    "\n",
    "    - Using the current value of only the stock and bond portion of the member's portfolio and the summary statistics that you generated from the new Monte Carlo simulation, what are the lower and upper bounds for the expected value of the portfolio (with the new weights) with a 95% confidence interval?\n",
    "\n",
    "    - Will weighting the portfolio more heavily toward stocks allow the credit union members to retire after only 10 years?\n"
   ],
   "metadata": {}
  },
  {
   "cell_type": "code",
   "execution_count": 82,
   "source": [
    "# Configure a Monte Carlo simulation to forecast 10 years cumulative returns\r\n",
    "# The weights should be split 20% to AGG and 80% to SPY.\r\n",
    "# Run 500 samples.\r\n",
    "MC_ten_year = MCSimulation(\r\n",
    "    portfolio_data = prices_df,\r\n",
    "    weights = [.20,.80],\r\n",
    "    num_simulation=500,\r\n",
    "    num_trading_days=252*10\r\n",
    ")\r\n",
    "\r\n",
    "# Review the simulation input data\r\n",
    "MC_ten_year.portfolio_data.head()\r\n"
   ],
   "outputs": [
    {
     "output_type": "execute_result",
     "data": {
      "text/plain": [
       "                              AGG                                          \\\n",
       "                             open      high       low    close     volume   \n",
       "time                                                                        \n",
       "2018-07-23 00:00:00-04:00  106.17  106.1850  105.8850  105.910  1603571.0   \n",
       "2018-07-24 00:00:00-04:00  105.92  106.0700  105.9001  106.040  1924876.0   \n",
       "2018-07-25 00:00:00-04:00  106.12  106.1700  105.9500  106.050  2028743.0   \n",
       "2018-07-26 00:00:00-04:00  106.10  106.1500  105.9500  106.000  1721051.0   \n",
       "2018-07-27 00:00:00-04:00  106.13  106.1599  106.0400  106.075  1261312.0   \n",
       "\n",
       "                                           SPY                          \\\n",
       "                          daily_return    open    high     low   close   \n",
       "time                                                                     \n",
       "2018-07-23 00:00:00-04:00          NaN  279.45  280.43  279.06  280.24   \n",
       "2018-07-24 00:00:00-04:00     0.001227  281.79  282.56  280.63  281.57   \n",
       "2018-07-25 00:00:00-04:00     0.000094  281.33  284.37  281.28  284.13   \n",
       "2018-07-26 00:00:00-04:00    -0.000471  283.21  284.11  283.09  283.29   \n",
       "2018-07-27 00:00:00-04:00     0.000708  283.71  283.82  280.38  281.46   \n",
       "\n",
       "                                                  \n",
       "                             volume daily_return  \n",
       "time                                              \n",
       "2018-07-23 00:00:00-04:00  34039725          NaN  \n",
       "2018-07-24 00:00:00-04:00  46684350     0.004746  \n",
       "2018-07-25 00:00:00-04:00  50868250     0.009092  \n",
       "2018-07-26 00:00:00-04:00  38319472    -0.002956  \n",
       "2018-07-27 00:00:00-04:00  57211361    -0.006460  "
      ],
      "text/html": [
       "<div>\n",
       "<style scoped>\n",
       "    .dataframe tbody tr th:only-of-type {\n",
       "        vertical-align: middle;\n",
       "    }\n",
       "\n",
       "    .dataframe tbody tr th {\n",
       "        vertical-align: top;\n",
       "    }\n",
       "\n",
       "    .dataframe thead tr th {\n",
       "        text-align: left;\n",
       "    }\n",
       "\n",
       "    .dataframe thead tr:last-of-type th {\n",
       "        text-align: right;\n",
       "    }\n",
       "</style>\n",
       "<table border=\"1\" class=\"dataframe\">\n",
       "  <thead>\n",
       "    <tr>\n",
       "      <th></th>\n",
       "      <th colspan=\"6\" halign=\"left\">AGG</th>\n",
       "      <th colspan=\"6\" halign=\"left\">SPY</th>\n",
       "    </tr>\n",
       "    <tr>\n",
       "      <th></th>\n",
       "      <th>open</th>\n",
       "      <th>high</th>\n",
       "      <th>low</th>\n",
       "      <th>close</th>\n",
       "      <th>volume</th>\n",
       "      <th>daily_return</th>\n",
       "      <th>open</th>\n",
       "      <th>high</th>\n",
       "      <th>low</th>\n",
       "      <th>close</th>\n",
       "      <th>volume</th>\n",
       "      <th>daily_return</th>\n",
       "    </tr>\n",
       "    <tr>\n",
       "      <th>time</th>\n",
       "      <th></th>\n",
       "      <th></th>\n",
       "      <th></th>\n",
       "      <th></th>\n",
       "      <th></th>\n",
       "      <th></th>\n",
       "      <th></th>\n",
       "      <th></th>\n",
       "      <th></th>\n",
       "      <th></th>\n",
       "      <th></th>\n",
       "      <th></th>\n",
       "    </tr>\n",
       "  </thead>\n",
       "  <tbody>\n",
       "    <tr>\n",
       "      <th>2018-07-23 00:00:00-04:00</th>\n",
       "      <td>106.17</td>\n",
       "      <td>106.1850</td>\n",
       "      <td>105.8850</td>\n",
       "      <td>105.910</td>\n",
       "      <td>1603571.0</td>\n",
       "      <td>NaN</td>\n",
       "      <td>279.45</td>\n",
       "      <td>280.43</td>\n",
       "      <td>279.06</td>\n",
       "      <td>280.24</td>\n",
       "      <td>34039725</td>\n",
       "      <td>NaN</td>\n",
       "    </tr>\n",
       "    <tr>\n",
       "      <th>2018-07-24 00:00:00-04:00</th>\n",
       "      <td>105.92</td>\n",
       "      <td>106.0700</td>\n",
       "      <td>105.9001</td>\n",
       "      <td>106.040</td>\n",
       "      <td>1924876.0</td>\n",
       "      <td>0.001227</td>\n",
       "      <td>281.79</td>\n",
       "      <td>282.56</td>\n",
       "      <td>280.63</td>\n",
       "      <td>281.57</td>\n",
       "      <td>46684350</td>\n",
       "      <td>0.004746</td>\n",
       "    </tr>\n",
       "    <tr>\n",
       "      <th>2018-07-25 00:00:00-04:00</th>\n",
       "      <td>106.12</td>\n",
       "      <td>106.1700</td>\n",
       "      <td>105.9500</td>\n",
       "      <td>106.050</td>\n",
       "      <td>2028743.0</td>\n",
       "      <td>0.000094</td>\n",
       "      <td>281.33</td>\n",
       "      <td>284.37</td>\n",
       "      <td>281.28</td>\n",
       "      <td>284.13</td>\n",
       "      <td>50868250</td>\n",
       "      <td>0.009092</td>\n",
       "    </tr>\n",
       "    <tr>\n",
       "      <th>2018-07-26 00:00:00-04:00</th>\n",
       "      <td>106.10</td>\n",
       "      <td>106.1500</td>\n",
       "      <td>105.9500</td>\n",
       "      <td>106.000</td>\n",
       "      <td>1721051.0</td>\n",
       "      <td>-0.000471</td>\n",
       "      <td>283.21</td>\n",
       "      <td>284.11</td>\n",
       "      <td>283.09</td>\n",
       "      <td>283.29</td>\n",
       "      <td>38319472</td>\n",
       "      <td>-0.002956</td>\n",
       "    </tr>\n",
       "    <tr>\n",
       "      <th>2018-07-27 00:00:00-04:00</th>\n",
       "      <td>106.13</td>\n",
       "      <td>106.1599</td>\n",
       "      <td>106.0400</td>\n",
       "      <td>106.075</td>\n",
       "      <td>1261312.0</td>\n",
       "      <td>0.000708</td>\n",
       "      <td>283.71</td>\n",
       "      <td>283.82</td>\n",
       "      <td>280.38</td>\n",
       "      <td>281.46</td>\n",
       "      <td>57211361</td>\n",
       "      <td>-0.006460</td>\n",
       "    </tr>\n",
       "  </tbody>\n",
       "</table>\n",
       "</div>"
      ]
     },
     "metadata": {},
     "execution_count": 82
    }
   ],
   "metadata": {}
  },
  {
   "cell_type": "code",
   "execution_count": null,
   "source": [
    "# Run the Monte Carlo simulation to forecast 10 years cumulative returns\r\n",
    "# YOUR CODE HERE\r\n"
   ],
   "outputs": [],
   "metadata": {}
  },
  {
   "cell_type": "code",
   "execution_count": null,
   "source": [
    "# Visualize the 10-year Monte Carlo simulation by creating an\r\n",
    "# overlay line plot\r\n",
    "# YOUR CODE HERE\r\n"
   ],
   "outputs": [],
   "metadata": {}
  },
  {
   "cell_type": "code",
   "execution_count": null,
   "source": [
    "# Visualize the probability distribution of the 10-year Monte Carlo simulation \r\n",
    "# by plotting a histogram\r\n",
    "# YOUR CODE HERE\r\n"
   ],
   "outputs": [],
   "metadata": {}
  },
  {
   "cell_type": "code",
   "execution_count": null,
   "source": [
    "# Generate summary statistics from the 10-year Monte Carlo simulation results\r\n",
    "# Save the results as a variable\r\n",
    "# YOUR CODE HERE\r\n",
    "\r\n",
    "\r\n",
    "# Review the 10-year Monte Carlo summary statistics\r\n",
    "# YOUR CODE HERE"
   ],
   "outputs": [],
   "metadata": {}
  },
  {
   "cell_type": "markdown",
   "source": [
    "### Answer the following questions:"
   ],
   "metadata": {}
  },
  {
   "cell_type": "markdown",
   "source": [
    "#### Question: Using the current value of only the stock and bond portion of the member's portfolio and the summary statistics that you generated from the new Monte Carlo simulation, what are the lower and upper bounds for the expected value of the portfolio (with the new weights) with a 95% confidence interval?"
   ],
   "metadata": {}
  },
  {
   "cell_type": "code",
   "execution_count": null,
   "source": [
    "# Print the current balance of the stock and bond portion of the members portfolio\r\n",
    "# YOUR CODE HERE\r\n"
   ],
   "outputs": [],
   "metadata": {}
  },
  {
   "cell_type": "code",
   "execution_count": null,
   "source": [
    "# Use the lower and upper `95%` confidence intervals to calculate the range of the possible outcomes for the current stock/bond portfolio\r\n",
    "ci_lower_ten_cumulative_return = # YOUR CODE HERE\r\n",
    "ci_upper_ten_cumulative_return = # YOUR CODE HERE\r\n",
    "\r\n",
    "# Print the result of your calculations\r\n",
    "# YOUR CODE HERE\r\n"
   ],
   "outputs": [],
   "metadata": {}
  },
  {
   "cell_type": "markdown",
   "source": [
    "#### Question: Will weighting the portfolio more heavily to stocks allow the credit union members to retire after only 10 years?"
   ],
   "metadata": {}
  },
  {
   "cell_type": "raw",
   "source": [
    "**Answer** # YOUR ANSWER HERE"
   ],
   "metadata": {}
  },
  {
   "cell_type": "code",
   "execution_count": null,
   "source": [],
   "outputs": [],
   "metadata": {}
  }
 ],
 "metadata": {
  "kernelspec": {
   "name": "python3",
   "display_name": "Python 3.7.10 64-bit ('dev': conda)"
  },
  "language_info": {
   "codemirror_mode": {
    "name": "ipython",
    "version": 3
   },
   "file_extension": ".py",
   "mimetype": "text/x-python",
   "name": "python",
   "nbconvert_exporter": "python",
   "pygments_lexer": "ipython3",
   "version": "3.7.10"
  },
  "interpreter": {
   "hash": "25dfd597ce48e143150056cb4d28be9c774f612d3357c6589f9de7359d9470f4"
  }
 },
 "nbformat": 4,
 "nbformat_minor": 4
}